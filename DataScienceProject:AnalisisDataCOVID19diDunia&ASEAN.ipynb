{
  "nbformat": 4,
  "nbformat_minor": 0,
  "metadata": {
    "colab": {
      "name": "Covid19_World.ipynb",
      "provenance": [],
      "collapsed_sections": [],
      "authorship_tag": "ABX9TyO1p9iR3X/TzwBzS7iIhaD0",
      "include_colab_link": true
    },
    "kernelspec": {
      "name": "python3",
      "display_name": "Python 3"
    },
    "language_info": {
      "name": "python"
    }
  },
  "cells": [
    {
      "cell_type": "markdown",
      "metadata": {
        "id": "view-in-github",
        "colab_type": "text"
      },
      "source": [
        "<a href=\"https://colab.research.google.com/github/crzysab/Projek-DQLab/blob/main/DataScienceProject%3AAnalisisDataCOVID19diDunia%26ASEAN.ipynb\" target=\"_parent\"><img src=\"https://colab.research.google.com/assets/colab-badge.svg\" alt=\"Open In Colab\"/></a>"
      ]
    },
    {
      "cell_type": "markdown",
      "metadata": {
        "id": "SO-vnjrFbLb_"
      },
      "source": [
        "Membaca Data Covid19 di Dunia"
      ]
    },
    {
      "cell_type": "code",
      "metadata": {
        "colab": {
          "base_uri": "https://localhost:8080/",
          "height": 238
        },
        "id": "4XAcUCxpWW11",
        "outputId": "f9e6b2f1-7954-4f66-aa0c-25a55da9c6df"
      },
      "source": [
        "import numpy as np\n",
        "import pandas as pd\n",
        "pd.set_option(\"display.max_columns\", None)\n",
        "\n",
        "covid_url = \"https://dqlab.id/data/covid19_worldwide_2020.json\"\n",
        "df_covid_worldwide = pd.read_json(covid_url)\n",
        "\n",
        "print(\"Ukuran dataset: %d kolom dan %d baris.\\n\" %df_covid_worldwide.shape)\n",
        "df_covid_worldwide.head()"
      ],
      "execution_count": null,
      "outputs": [
        {
          "output_type": "stream",
          "name": "stdout",
          "text": [
            "Ukuran dataset: 61900 kolom dan 6 baris.\n",
            "\n"
          ]
        },
        {
          "output_type": "execute_result",
          "data": {
            "text/html": [
              "<div>\n",
              "<style scoped>\n",
              "    .dataframe tbody tr th:only-of-type {\n",
              "        vertical-align: middle;\n",
              "    }\n",
              "\n",
              "    .dataframe tbody tr th {\n",
              "        vertical-align: top;\n",
              "    }\n",
              "\n",
              "    .dataframe thead th {\n",
              "        text-align: right;\n",
              "    }\n",
              "</style>\n",
              "<table border=\"1\" class=\"dataframe\">\n",
              "  <thead>\n",
              "    <tr style=\"text-align: right;\">\n",
              "      <th></th>\n",
              "      <th>date</th>\n",
              "      <th>daily_confirmed_cases</th>\n",
              "      <th>daily_deaths</th>\n",
              "      <th>confirmed_cases</th>\n",
              "      <th>deaths</th>\n",
              "      <th>geo_id</th>\n",
              "    </tr>\n",
              "  </thead>\n",
              "  <tbody>\n",
              "    <tr>\n",
              "      <th>0</th>\n",
              "      <td>2020-03-20</td>\n",
              "      <td>1</td>\n",
              "      <td>0</td>\n",
              "      <td>1</td>\n",
              "      <td>0</td>\n",
              "      <td>TD</td>\n",
              "    </tr>\n",
              "    <tr>\n",
              "      <th>1</th>\n",
              "      <td>2020-03-21</td>\n",
              "      <td>0</td>\n",
              "      <td>0</td>\n",
              "      <td>1</td>\n",
              "      <td>0</td>\n",
              "      <td>TD</td>\n",
              "    </tr>\n",
              "    <tr>\n",
              "      <th>2</th>\n",
              "      <td>2020-03-22</td>\n",
              "      <td>1</td>\n",
              "      <td>0</td>\n",
              "      <td>2</td>\n",
              "      <td>0</td>\n",
              "      <td>TD</td>\n",
              "    </tr>\n",
              "    <tr>\n",
              "      <th>3</th>\n",
              "      <td>2020-03-23</td>\n",
              "      <td>0</td>\n",
              "      <td>0</td>\n",
              "      <td>2</td>\n",
              "      <td>0</td>\n",
              "      <td>TD</td>\n",
              "    </tr>\n",
              "    <tr>\n",
              "      <th>4</th>\n",
              "      <td>2020-03-24</td>\n",
              "      <td>0</td>\n",
              "      <td>0</td>\n",
              "      <td>2</td>\n",
              "      <td>0</td>\n",
              "      <td>TD</td>\n",
              "    </tr>\n",
              "  </tbody>\n",
              "</table>\n",
              "</div>"
            ],
            "text/plain": [
              "        date  daily_confirmed_cases  daily_deaths  confirmed_cases  deaths  \\\n",
              "0 2020-03-20                      1             0                1       0   \n",
              "1 2020-03-21                      0             0                1       0   \n",
              "2 2020-03-22                      1             0                2       0   \n",
              "3 2020-03-23                      0             0                2       0   \n",
              "4 2020-03-24                      0             0                2       0   \n",
              "\n",
              "  geo_id  \n",
              "0     TD  \n",
              "1     TD  \n",
              "2     TD  \n",
              "3     TD  \n",
              "4     TD  "
            ]
          },
          "metadata": {},
          "execution_count": 1
        }
      ]
    },
    {
      "cell_type": "markdown",
      "metadata": {
        "id": "TtlWyMr5gSyb"
      },
      "source": [
        "Mengatur Tanggal sebagai Index"
      ]
    },
    {
      "cell_type": "code",
      "metadata": {
        "colab": {
          "base_uri": "https://localhost:8080/"
        },
        "id": "eBnT8DXEXUqW",
        "outputId": "5f355f6b-01e1-4583-c8ec-10df03919d7c"
      },
      "source": [
        "print(\"Informasi data frame awal:\")\n",
        "df_covid_worldwide.info()\n",
        "\n",
        "df_covid_worldwide = df_covid_worldwide.set_index(\"date\").sort_index()\n",
        "\n",
        "print(\"\\nInformasi data frame setelah set index kolom date:\")\n",
        "df_covid_worldwide.info()"
      ],
      "execution_count": null,
      "outputs": [
        {
          "output_type": "stream",
          "name": "stdout",
          "text": [
            "Informasi data frame awal:\n",
            "<class 'pandas.core.frame.DataFrame'>\n",
            "Int64Index: 61900 entries, 0 to 61899\n",
            "Data columns (total 6 columns):\n",
            " #   Column                 Non-Null Count  Dtype         \n",
            "---  ------                 --------------  -----         \n",
            " 0   date                   61900 non-null  datetime64[ns]\n",
            " 1   daily_confirmed_cases  61900 non-null  int64         \n",
            " 2   daily_deaths           61900 non-null  int64         \n",
            " 3   confirmed_cases        61900 non-null  int64         \n",
            " 4   deaths                 61900 non-null  int64         \n",
            " 5   geo_id                 61625 non-null  object        \n",
            "dtypes: datetime64[ns](1), int64(4), object(1)\n",
            "memory usage: 3.3+ MB\n",
            "\n",
            "Informasi data frame setelah set index kolom date:\n",
            "<class 'pandas.core.frame.DataFrame'>\n",
            "DatetimeIndex: 61900 entries, 2019-12-31 to 2020-12-14\n",
            "Data columns (total 5 columns):\n",
            " #   Column                 Non-Null Count  Dtype \n",
            "---  ------                 --------------  ----- \n",
            " 0   daily_confirmed_cases  61900 non-null  int64 \n",
            " 1   daily_deaths           61900 non-null  int64 \n",
            " 2   confirmed_cases        61900 non-null  int64 \n",
            " 3   deaths                 61900 non-null  int64 \n",
            " 4   geo_id                 61625 non-null  object\n",
            "dtypes: int64(4), object(1)\n",
            "memory usage: 2.8+ MB\n"
          ]
        }
      ]
    },
    {
      "cell_type": "code",
      "metadata": {
        "colab": {
          "base_uri": "https://localhost:8080/",
          "height": 235
        },
        "id": "IiQ-8JruXab0",
        "outputId": "df0ea227-bd72-408c-973a-39d71ed05c6d"
      },
      "source": [
        "df_covid_worldwide.head()"
      ],
      "execution_count": null,
      "outputs": [
        {
          "output_type": "execute_result",
          "data": {
            "text/html": [
              "<div>\n",
              "<style scoped>\n",
              "    .dataframe tbody tr th:only-of-type {\n",
              "        vertical-align: middle;\n",
              "    }\n",
              "\n",
              "    .dataframe tbody tr th {\n",
              "        vertical-align: top;\n",
              "    }\n",
              "\n",
              "    .dataframe thead th {\n",
              "        text-align: right;\n",
              "    }\n",
              "</style>\n",
              "<table border=\"1\" class=\"dataframe\">\n",
              "  <thead>\n",
              "    <tr style=\"text-align: right;\">\n",
              "      <th></th>\n",
              "      <th>daily_confirmed_cases</th>\n",
              "      <th>daily_deaths</th>\n",
              "      <th>confirmed_cases</th>\n",
              "      <th>deaths</th>\n",
              "      <th>geo_id</th>\n",
              "    </tr>\n",
              "    <tr>\n",
              "      <th>date</th>\n",
              "      <th></th>\n",
              "      <th></th>\n",
              "      <th></th>\n",
              "      <th></th>\n",
              "      <th></th>\n",
              "    </tr>\n",
              "  </thead>\n",
              "  <tbody>\n",
              "    <tr>\n",
              "      <th>2019-12-31</th>\n",
              "      <td>0</td>\n",
              "      <td>0</td>\n",
              "      <td>0</td>\n",
              "      <td>0</td>\n",
              "      <td>IN</td>\n",
              "    </tr>\n",
              "    <tr>\n",
              "      <th>2019-12-31</th>\n",
              "      <td>0</td>\n",
              "      <td>0</td>\n",
              "      <td>0</td>\n",
              "      <td>0</td>\n",
              "      <td>IR</td>\n",
              "    </tr>\n",
              "    <tr>\n",
              "      <th>2019-12-31</th>\n",
              "      <td>0</td>\n",
              "      <td>0</td>\n",
              "      <td>0</td>\n",
              "      <td>0</td>\n",
              "      <td>PK</td>\n",
              "    </tr>\n",
              "    <tr>\n",
              "      <th>2019-12-31</th>\n",
              "      <td>0</td>\n",
              "      <td>0</td>\n",
              "      <td>0</td>\n",
              "      <td>0</td>\n",
              "      <td>AM</td>\n",
              "    </tr>\n",
              "    <tr>\n",
              "      <th>2019-12-31</th>\n",
              "      <td>27</td>\n",
              "      <td>0</td>\n",
              "      <td>27</td>\n",
              "      <td>0</td>\n",
              "      <td>CN</td>\n",
              "    </tr>\n",
              "  </tbody>\n",
              "</table>\n",
              "</div>"
            ],
            "text/plain": [
              "            daily_confirmed_cases  daily_deaths  confirmed_cases  deaths  \\\n",
              "date                                                                       \n",
              "2019-12-31                      0             0                0       0   \n",
              "2019-12-31                      0             0                0       0   \n",
              "2019-12-31                      0             0                0       0   \n",
              "2019-12-31                      0             0                0       0   \n",
              "2019-12-31                     27             0               27       0   \n",
              "\n",
              "           geo_id  \n",
              "date               \n",
              "2019-12-31     IN  \n",
              "2019-12-31     IR  \n",
              "2019-12-31     PK  \n",
              "2019-12-31     AM  \n",
              "2019-12-31     CN  "
            ]
          },
          "metadata": {},
          "execution_count": 3
        }
      ]
    },
    {
      "cell_type": "markdown",
      "metadata": {
        "id": "RwA0cElqbScV"
      },
      "source": [
        "Melihat dan Menghapus Missing Value"
      ]
    },
    {
      "cell_type": "code",
      "metadata": {
        "colab": {
          "base_uri": "https://localhost:8080/"
        },
        "id": "OX3nbOM5YcXJ",
        "outputId": "bca4c0b9-606d-4828-c9f3-bf5a8fb6081f"
      },
      "source": [
        "print(\"Jumlah missing value tiap kolom:\")\n",
        "print(df_covid_worldwide.isna().sum())\n",
        "\n",
        "df_covid_worldwide.dropna(inplace=True)\n",
        "\n",
        "print(\"\\nJumlah missing value tiap kolom setelah didrop:\")\n",
        "print(df_covid_worldwide.isna().sum())"
      ],
      "execution_count": null,
      "outputs": [
        {
          "output_type": "stream",
          "name": "stdout",
          "text": [
            "Jumlah missing value tiap kolom:\n",
            "daily_confirmed_cases      0\n",
            "daily_deaths               0\n",
            "confirmed_cases            0\n",
            "deaths                     0\n",
            "geo_id                   275\n",
            "dtype: int64\n",
            "\n",
            "Jumlah missing value tiap kolom setelah didrop:\n",
            "daily_confirmed_cases    0\n",
            "daily_deaths             0\n",
            "confirmed_cases          0\n",
            "deaths                   0\n",
            "geo_id                   0\n",
            "dtype: int64\n"
          ]
        }
      ]
    },
    {
      "cell_type": "markdown",
      "metadata": {
        "id": "h1kOcJDZbYln"
      },
      "source": [
        "Membaca Data Country dan ID"
      ]
    },
    {
      "cell_type": "code",
      "metadata": {
        "colab": {
          "base_uri": "https://localhost:8080/",
          "height": 204
        },
        "id": "CKfqia_lYvfI",
        "outputId": "d0732e0a-a7d2-4712-c336-c5174a36c94c"
      },
      "source": [
        "countries_url = \"https://dqlab.id/data/country_details.json\"\n",
        "df_countries = pd.read_json(countries_url)\n",
        "df_countries.head()"
      ],
      "execution_count": null,
      "outputs": [
        {
          "output_type": "execute_result",
          "data": {
            "text/html": [
              "<div>\n",
              "<style scoped>\n",
              "    .dataframe tbody tr th:only-of-type {\n",
              "        vertical-align: middle;\n",
              "    }\n",
              "\n",
              "    .dataframe tbody tr th {\n",
              "        vertical-align: top;\n",
              "    }\n",
              "\n",
              "    .dataframe thead th {\n",
              "        text-align: right;\n",
              "    }\n",
              "</style>\n",
              "<table border=\"1\" class=\"dataframe\">\n",
              "  <thead>\n",
              "    <tr style=\"text-align: right;\">\n",
              "      <th></th>\n",
              "      <th>geo_id</th>\n",
              "      <th>country_name</th>\n",
              "    </tr>\n",
              "  </thead>\n",
              "  <tbody>\n",
              "    <tr>\n",
              "      <th>0</th>\n",
              "      <td>TD</td>\n",
              "      <td>Chad</td>\n",
              "    </tr>\n",
              "    <tr>\n",
              "      <th>1</th>\n",
              "      <td>CU</td>\n",
              "      <td>Cuba</td>\n",
              "    </tr>\n",
              "    <tr>\n",
              "      <th>2</th>\n",
              "      <td>FJ</td>\n",
              "      <td>Fiji</td>\n",
              "    </tr>\n",
              "    <tr>\n",
              "      <th>3</th>\n",
              "      <td>GU</td>\n",
              "      <td>Guam</td>\n",
              "    </tr>\n",
              "    <tr>\n",
              "      <th>4</th>\n",
              "      <td>IR</td>\n",
              "      <td>Iran</td>\n",
              "    </tr>\n",
              "  </tbody>\n",
              "</table>\n",
              "</div>"
            ],
            "text/plain": [
              "  geo_id country_name\n",
              "0     TD         Chad\n",
              "1     CU         Cuba\n",
              "2     FJ         Fiji\n",
              "3     GU         Guam\n",
              "4     IR         Iran"
            ]
          },
          "metadata": {},
          "execution_count": 5
        }
      ]
    },
    {
      "cell_type": "markdown",
      "metadata": {
        "id": "iKuHNyhabfFG"
      },
      "source": [
        "Normalisasi Menyatukan DataFrame Covid19 dan Data Negara"
      ]
    },
    {
      "cell_type": "code",
      "metadata": {
        "colab": {
          "base_uri": "https://localhost:8080/",
          "height": 235
        },
        "id": "jh7Qo_bYZ7dJ",
        "outputId": "dfa8d9d1-6e31-4ff9-846e-a43a9c9c08f9"
      },
      "source": [
        "df_covid_denormalized = pd.merge(df_covid_worldwide.reset_index(), df_countries, on=\"geo_id\").set_index(\"date\")\n",
        "df_covid_denormalized.head()"
      ],
      "execution_count": null,
      "outputs": [
        {
          "output_type": "execute_result",
          "data": {
            "text/html": [
              "<div>\n",
              "<style scoped>\n",
              "    .dataframe tbody tr th:only-of-type {\n",
              "        vertical-align: middle;\n",
              "    }\n",
              "\n",
              "    .dataframe tbody tr th {\n",
              "        vertical-align: top;\n",
              "    }\n",
              "\n",
              "    .dataframe thead th {\n",
              "        text-align: right;\n",
              "    }\n",
              "</style>\n",
              "<table border=\"1\" class=\"dataframe\">\n",
              "  <thead>\n",
              "    <tr style=\"text-align: right;\">\n",
              "      <th></th>\n",
              "      <th>daily_confirmed_cases</th>\n",
              "      <th>daily_deaths</th>\n",
              "      <th>confirmed_cases</th>\n",
              "      <th>deaths</th>\n",
              "      <th>geo_id</th>\n",
              "      <th>country_name</th>\n",
              "    </tr>\n",
              "    <tr>\n",
              "      <th>date</th>\n",
              "      <th></th>\n",
              "      <th></th>\n",
              "      <th></th>\n",
              "      <th></th>\n",
              "      <th></th>\n",
              "      <th></th>\n",
              "    </tr>\n",
              "  </thead>\n",
              "  <tbody>\n",
              "    <tr>\n",
              "      <th>2019-12-31</th>\n",
              "      <td>0</td>\n",
              "      <td>0</td>\n",
              "      <td>0</td>\n",
              "      <td>0</td>\n",
              "      <td>IN</td>\n",
              "      <td>India</td>\n",
              "    </tr>\n",
              "    <tr>\n",
              "      <th>2020-01-01</th>\n",
              "      <td>0</td>\n",
              "      <td>0</td>\n",
              "      <td>0</td>\n",
              "      <td>0</td>\n",
              "      <td>IN</td>\n",
              "      <td>India</td>\n",
              "    </tr>\n",
              "    <tr>\n",
              "      <th>2020-01-02</th>\n",
              "      <td>0</td>\n",
              "      <td>0</td>\n",
              "      <td>0</td>\n",
              "      <td>0</td>\n",
              "      <td>IN</td>\n",
              "      <td>India</td>\n",
              "    </tr>\n",
              "    <tr>\n",
              "      <th>2020-01-03</th>\n",
              "      <td>0</td>\n",
              "      <td>0</td>\n",
              "      <td>0</td>\n",
              "      <td>0</td>\n",
              "      <td>IN</td>\n",
              "      <td>India</td>\n",
              "    </tr>\n",
              "    <tr>\n",
              "      <th>2020-01-04</th>\n",
              "      <td>0</td>\n",
              "      <td>0</td>\n",
              "      <td>0</td>\n",
              "      <td>0</td>\n",
              "      <td>IN</td>\n",
              "      <td>India</td>\n",
              "    </tr>\n",
              "  </tbody>\n",
              "</table>\n",
              "</div>"
            ],
            "text/plain": [
              "            daily_confirmed_cases  daily_deaths  confirmed_cases  deaths  \\\n",
              "date                                                                       \n",
              "2019-12-31                      0             0                0       0   \n",
              "2020-01-01                      0             0                0       0   \n",
              "2020-01-02                      0             0                0       0   \n",
              "2020-01-03                      0             0                0       0   \n",
              "2020-01-04                      0             0                0       0   \n",
              "\n",
              "           geo_id country_name  \n",
              "date                            \n",
              "2019-12-31     IN        India  \n",
              "2020-01-01     IN        India  \n",
              "2020-01-02     IN        India  \n",
              "2020-01-03     IN        India  \n",
              "2020-01-04     IN        India  "
            ]
          },
          "metadata": {},
          "execution_count": 10
        }
      ]
    },
    {
      "cell_type": "markdown",
      "metadata": {
        "id": "_qQ5AMdtbnKn"
      },
      "source": [
        "Melihat Fatality Ratio"
      ]
    },
    {
      "cell_type": "code",
      "metadata": {
        "colab": {
          "base_uri": "https://localhost:8080/",
          "height": 235
        },
        "id": "a6275jedbF6E",
        "outputId": "ff4dca41-eb70-41d3-da30-1002aedbf0a2"
      },
      "source": [
        "df_covid_denormalized[\"fatality_ratio\"] = df_covid_denormalized[\"deaths\"]/df_covid_denormalized[\"confirmed_cases\"]\n",
        "df_covid_denormalized.head()"
      ],
      "execution_count": null,
      "outputs": [
        {
          "output_type": "execute_result",
          "data": {
            "text/html": [
              "<div>\n",
              "<style scoped>\n",
              "    .dataframe tbody tr th:only-of-type {\n",
              "        vertical-align: middle;\n",
              "    }\n",
              "\n",
              "    .dataframe tbody tr th {\n",
              "        vertical-align: top;\n",
              "    }\n",
              "\n",
              "    .dataframe thead th {\n",
              "        text-align: right;\n",
              "    }\n",
              "</style>\n",
              "<table border=\"1\" class=\"dataframe\">\n",
              "  <thead>\n",
              "    <tr style=\"text-align: right;\">\n",
              "      <th></th>\n",
              "      <th>daily_confirmed_cases</th>\n",
              "      <th>daily_deaths</th>\n",
              "      <th>confirmed_cases</th>\n",
              "      <th>deaths</th>\n",
              "      <th>geo_id</th>\n",
              "      <th>country_name</th>\n",
              "      <th>fatality_ratio</th>\n",
              "    </tr>\n",
              "    <tr>\n",
              "      <th>date</th>\n",
              "      <th></th>\n",
              "      <th></th>\n",
              "      <th></th>\n",
              "      <th></th>\n",
              "      <th></th>\n",
              "      <th></th>\n",
              "      <th></th>\n",
              "    </tr>\n",
              "  </thead>\n",
              "  <tbody>\n",
              "    <tr>\n",
              "      <th>2019-12-31</th>\n",
              "      <td>0</td>\n",
              "      <td>0</td>\n",
              "      <td>0</td>\n",
              "      <td>0</td>\n",
              "      <td>IN</td>\n",
              "      <td>India</td>\n",
              "      <td>NaN</td>\n",
              "    </tr>\n",
              "    <tr>\n",
              "      <th>2020-01-01</th>\n",
              "      <td>0</td>\n",
              "      <td>0</td>\n",
              "      <td>0</td>\n",
              "      <td>0</td>\n",
              "      <td>IN</td>\n",
              "      <td>India</td>\n",
              "      <td>NaN</td>\n",
              "    </tr>\n",
              "    <tr>\n",
              "      <th>2020-01-02</th>\n",
              "      <td>0</td>\n",
              "      <td>0</td>\n",
              "      <td>0</td>\n",
              "      <td>0</td>\n",
              "      <td>IN</td>\n",
              "      <td>India</td>\n",
              "      <td>NaN</td>\n",
              "    </tr>\n",
              "    <tr>\n",
              "      <th>2020-01-03</th>\n",
              "      <td>0</td>\n",
              "      <td>0</td>\n",
              "      <td>0</td>\n",
              "      <td>0</td>\n",
              "      <td>IN</td>\n",
              "      <td>India</td>\n",
              "      <td>NaN</td>\n",
              "    </tr>\n",
              "    <tr>\n",
              "      <th>2020-01-04</th>\n",
              "      <td>0</td>\n",
              "      <td>0</td>\n",
              "      <td>0</td>\n",
              "      <td>0</td>\n",
              "      <td>IN</td>\n",
              "      <td>India</td>\n",
              "      <td>NaN</td>\n",
              "    </tr>\n",
              "  </tbody>\n",
              "</table>\n",
              "</div>"
            ],
            "text/plain": [
              "            daily_confirmed_cases  daily_deaths  confirmed_cases  deaths  \\\n",
              "date                                                                       \n",
              "2019-12-31                      0             0                0       0   \n",
              "2020-01-01                      0             0                0       0   \n",
              "2020-01-02                      0             0                0       0   \n",
              "2020-01-03                      0             0                0       0   \n",
              "2020-01-04                      0             0                0       0   \n",
              "\n",
              "           geo_id country_name  fatality_ratio  \n",
              "date                                            \n",
              "2019-12-31     IN        India             NaN  \n",
              "2020-01-01     IN        India             NaN  \n",
              "2020-01-02     IN        India             NaN  \n",
              "2020-01-03     IN        India             NaN  \n",
              "2020-01-04     IN        India             NaN  "
            ]
          },
          "metadata": {},
          "execution_count": 7
        }
      ]
    },
    {
      "cell_type": "markdown",
      "metadata": {
        "id": "JL22BlhbcVmV"
      },
      "source": [
        "20 Fatality Ratio Tertinggi "
      ]
    },
    {
      "cell_type": "code",
      "metadata": {
        "colab": {
          "base_uri": "https://localhost:8080/",
          "height": 700
        },
        "id": "oUAqzARIbKQ1",
        "outputId": "d663435f-d780-44ff-c161-51916af2fd9f"
      },
      "source": [
        "df_top_20_fatality_rate = df_covid_denormalized.sort_values(\"fatality_ratio\", ascending=False).head(20)\n",
        "df_top_20_fatality_rate[[\"geo_id\",\"country_name\",\"fatality_ratio\"]]"
      ],
      "execution_count": null,
      "outputs": [
        {
          "output_type": "execute_result",
          "data": {
            "text/html": [
              "<div>\n",
              "<style scoped>\n",
              "    .dataframe tbody tr th:only-of-type {\n",
              "        vertical-align: middle;\n",
              "    }\n",
              "\n",
              "    .dataframe tbody tr th {\n",
              "        vertical-align: top;\n",
              "    }\n",
              "\n",
              "    .dataframe thead th {\n",
              "        text-align: right;\n",
              "    }\n",
              "</style>\n",
              "<table border=\"1\" class=\"dataframe\">\n",
              "  <thead>\n",
              "    <tr style=\"text-align: right;\">\n",
              "      <th></th>\n",
              "      <th>geo_id</th>\n",
              "      <th>country_name</th>\n",
              "      <th>fatality_ratio</th>\n",
              "    </tr>\n",
              "    <tr>\n",
              "      <th>date</th>\n",
              "      <th></th>\n",
              "      <th></th>\n",
              "      <th></th>\n",
              "    </tr>\n",
              "  </thead>\n",
              "  <tbody>\n",
              "    <tr>\n",
              "      <th>2020-03-15</th>\n",
              "      <td>SD</td>\n",
              "      <td>Sudan</td>\n",
              "      <td>1.0</td>\n",
              "    </tr>\n",
              "    <tr>\n",
              "      <th>2020-02-20</th>\n",
              "      <td>IR</td>\n",
              "      <td>Iran</td>\n",
              "      <td>1.0</td>\n",
              "    </tr>\n",
              "    <tr>\n",
              "      <th>2020-03-16</th>\n",
              "      <td>GT</td>\n",
              "      <td>Guatemala</td>\n",
              "      <td>1.0</td>\n",
              "    </tr>\n",
              "    <tr>\n",
              "      <th>2020-03-13</th>\n",
              "      <td>GY</td>\n",
              "      <td>Guyana</td>\n",
              "      <td>1.0</td>\n",
              "    </tr>\n",
              "    <tr>\n",
              "      <th>2020-03-18</th>\n",
              "      <td>SD</td>\n",
              "      <td>Sudan</td>\n",
              "      <td>1.0</td>\n",
              "    </tr>\n",
              "    <tr>\n",
              "      <th>2020-03-17</th>\n",
              "      <td>SD</td>\n",
              "      <td>Sudan</td>\n",
              "      <td>1.0</td>\n",
              "    </tr>\n",
              "    <tr>\n",
              "      <th>2020-03-16</th>\n",
              "      <td>SD</td>\n",
              "      <td>Sudan</td>\n",
              "      <td>1.0</td>\n",
              "    </tr>\n",
              "    <tr>\n",
              "      <th>2020-02-03</th>\n",
              "      <td>PH</td>\n",
              "      <td>Philippines</td>\n",
              "      <td>0.5</td>\n",
              "    </tr>\n",
              "    <tr>\n",
              "      <th>2020-02-05</th>\n",
              "      <td>PH</td>\n",
              "      <td>Philippines</td>\n",
              "      <td>0.5</td>\n",
              "    </tr>\n",
              "    <tr>\n",
              "      <th>2020-02-04</th>\n",
              "      <td>PH</td>\n",
              "      <td>Philippines</td>\n",
              "      <td>0.5</td>\n",
              "    </tr>\n",
              "    <tr>\n",
              "      <th>2020-03-28</th>\n",
              "      <td>NI</td>\n",
              "      <td>Nicaragua</td>\n",
              "      <td>0.5</td>\n",
              "    </tr>\n",
              "    <tr>\n",
              "      <th>2020-02-02</th>\n",
              "      <td>PH</td>\n",
              "      <td>Philippines</td>\n",
              "      <td>0.5</td>\n",
              "    </tr>\n",
              "    <tr>\n",
              "      <th>2020-03-24</th>\n",
              "      <td>ZW</td>\n",
              "      <td>Zimbabwe</td>\n",
              "      <td>0.5</td>\n",
              "    </tr>\n",
              "    <tr>\n",
              "      <th>2020-03-24</th>\n",
              "      <td>GM</td>\n",
              "      <td>Gambia</td>\n",
              "      <td>0.5</td>\n",
              "    </tr>\n",
              "    <tr>\n",
              "      <th>2020-03-19</th>\n",
              "      <td>SD</td>\n",
              "      <td>Sudan</td>\n",
              "      <td>0.5</td>\n",
              "    </tr>\n",
              "    <tr>\n",
              "      <th>2020-03-20</th>\n",
              "      <td>SD</td>\n",
              "      <td>Sudan</td>\n",
              "      <td>0.5</td>\n",
              "    </tr>\n",
              "    <tr>\n",
              "      <th>2020-03-21</th>\n",
              "      <td>SD</td>\n",
              "      <td>Sudan</td>\n",
              "      <td>0.5</td>\n",
              "    </tr>\n",
              "    <tr>\n",
              "      <th>2020-03-22</th>\n",
              "      <td>SD</td>\n",
              "      <td>Sudan</td>\n",
              "      <td>0.5</td>\n",
              "    </tr>\n",
              "    <tr>\n",
              "      <th>2020-03-23</th>\n",
              "      <td>SD</td>\n",
              "      <td>Sudan</td>\n",
              "      <td>0.5</td>\n",
              "    </tr>\n",
              "    <tr>\n",
              "      <th>2020-03-24</th>\n",
              "      <td>SD</td>\n",
              "      <td>Sudan</td>\n",
              "      <td>0.5</td>\n",
              "    </tr>\n",
              "  </tbody>\n",
              "</table>\n",
              "</div>"
            ],
            "text/plain": [
              "           geo_id country_name  fatality_ratio\n",
              "date                                          \n",
              "2020-03-15     SD        Sudan             1.0\n",
              "2020-02-20     IR         Iran             1.0\n",
              "2020-03-16     GT    Guatemala             1.0\n",
              "2020-03-13     GY       Guyana             1.0\n",
              "2020-03-18     SD        Sudan             1.0\n",
              "2020-03-17     SD        Sudan             1.0\n",
              "2020-03-16     SD        Sudan             1.0\n",
              "2020-02-03     PH  Philippines             0.5\n",
              "2020-02-05     PH  Philippines             0.5\n",
              "2020-02-04     PH  Philippines             0.5\n",
              "2020-03-28     NI    Nicaragua             0.5\n",
              "2020-02-02     PH  Philippines             0.5\n",
              "2020-03-24     ZW     Zimbabwe             0.5\n",
              "2020-03-24     GM       Gambia             0.5\n",
              "2020-03-19     SD        Sudan             0.5\n",
              "2020-03-20     SD        Sudan             0.5\n",
              "2020-03-21     SD        Sudan             0.5\n",
              "2020-03-22     SD        Sudan             0.5\n",
              "2020-03-23     SD        Sudan             0.5\n",
              "2020-03-24     SD        Sudan             0.5"
            ]
          },
          "metadata": {},
          "execution_count": 8
        }
      ]
    },
    {
      "cell_type": "markdown",
      "metadata": {
        "id": "JRmxKJ-fjvgb"
      },
      "source": [
        "Kondisi Fatality Ratio Tertinggi di Bulan Desember 2020"
      ]
    },
    {
      "cell_type": "code",
      "metadata": {
        "colab": {
          "base_uri": "https://localhost:8080/"
        },
        "id": "wMLDc95rj2nT",
        "outputId": "328b2413-1e37-4545-aa4d-66183058d0af"
      },
      "source": [
        "df_covid_denormalized_desember = df_covid_denormalized.loc[\"2020-12\"].groupby(\"country_name\").sum()\n",
        "\n",
        "df_covid_denormalized_desember[\"fatality_ratio\"] = df_covid_denormalized_desember[\"deaths\"]/df_covid_denormalized_desember[\"confirmed_cases\"]\n",
        "\n",
        "df_top_20_fatality_rate_on_desember = df_covid_denormalized_desember.sort_values(\"fatality_ratio\", ascending=False).head(20)\n",
        "df_top_20_fatality_rate_on_desember[\"fatality_ratio\"]"
      ],
      "execution_count": null,
      "outputs": [
        {
          "output_type": "execute_result",
          "data": {
            "text/plain": [
              "country_name\n",
              "Yemen                          0.291403\n",
              "Mexico                         0.093324\n",
              "Montserrat                     0.076923\n",
              "Ecuador                        0.069390\n",
              "Isle_of_Man                    0.067620\n",
              "Sudan                          0.066466\n",
              "Bolivia                        0.061690\n",
              "Chad                           0.059062\n",
              "Egypt                          0.057157\n",
              "Syria                          0.053837\n",
              "China                          0.051555\n",
              "Liberia                        0.050050\n",
              "Iran                           0.048348\n",
              "Fiji                           0.045752\n",
              "Guernsey                       0.045117\n",
              "United_Republic_of_Tanzania    0.041257\n",
              "Niger                          0.041001\n",
              "Afghanistan                    0.039826\n",
              "Peru                           0.037274\n",
              "United_Kingdom                 0.035493\n",
              "Name: fatality_ratio, dtype: float64"
            ]
          },
          "metadata": {},
          "execution_count": 9
        }
      ]
    },
    {
      "cell_type": "markdown",
      "metadata": {
        "id": "JbB5Bcn2lTC4"
      },
      "source": [
        "Visualisasi Fatality Ratio Tertinggi di Bulan Desember 2020"
      ]
    },
    {
      "cell_type": "code",
      "metadata": {
        "colab": {
          "base_uri": "https://localhost:8080/",
          "height": 297
        },
        "id": "KZ3jinJZmXVt",
        "outputId": "cd1b5b46-5e13-4d29-cf2b-df4f1885a207"
      },
      "source": [
        "import matplotlib.pyplot as plt\n",
        "\n",
        "plt.plot(figsize=(8,8))\n",
        "df_top_20_fatality_rate_on_desember[\"fatality_ratio\"].sort_values().plot(kind=\"barh\", color=\"coral\")\n",
        "plt.title(\"Top 20 Highest Fatality Rate Countries\", fontsize=18, color='b')\n",
        "plt.xlabel(\"Fatality Rate\", fontsize = 14)\n",
        "plt.ylabel(\"Country Name\", fontsize = 14)\n",
        "plt.grid(axis=\"x\")\n",
        "plt.tight_layout()\n",
        "plt.show()"
      ],
      "execution_count": null,
      "outputs": [
        {
          "output_type": "display_data",
          "data": {
            "image/png": "[encoded data removed]",
            "text/plain": [
              "<Figure size 432x288 with 1 Axes>"
            ]
          },
          "metadata": {
            "needs_background": "light"
          }
        }
      ]
    },
    {
      "cell_type": "markdown",
      "metadata": {
        "id": "xmaGQHmzpw8T"
      },
      "source": [
        "Kasus Covid-19 di ASEAN"
      ]
    },
    {
      "cell_type": "code",
      "metadata": {
        "colab": {
          "base_uri": "https://localhost:8080/"
        },
        "id": "Y_nehy3_uws-",
        "outputId": "89bbe45c-8d69-4c60-ac68-b3324f12f537"
      },
      "source": [
        "print(\"Cek nilai unik di kolom 'country_name':\", df_covid_denormalized[\"country_name\"].unique())"
      ],
      "execution_count": null,
      "outputs": [
        {
          "output_type": "stream",
          "name": "stdout",
          "text": [
            "Cek nilai unik di kolom 'country_name': ['India' 'Iran' 'Pakistan' 'Armenia' 'China' 'Azerbaijan' 'Algeria'\n",
            " 'Luxembourg' 'Nepal' 'Malaysia' 'Iceland' 'South_Korea' 'Egypt'\n",
            " 'United_States_of_America' 'Kuwait' 'Ireland' 'Taiwan' 'San_Marino'\n",
            " 'Japan' 'Cambodia' 'Lebanon' 'Oman' 'Sweden' 'Philippines' 'Mexico'\n",
            " 'Italy' 'Switzerland' 'United_Arab_Emirates' 'Georgia' 'Austria'\n",
            " 'Croatia' 'Canada' 'North_Macedonia' 'Lithuania' 'Indonesia' 'Czechia'\n",
            " 'Denmark' 'United_Kingdom' 'Brazil' 'Belgium' 'Iraq' 'France' 'Nigeria'\n",
            " 'Australia' 'Spain' 'Belarus' 'Singapore' 'Dominican_Republic' 'Greece'\n",
            " 'Bahrain' 'Thailand' 'Estonia' 'Sri_Lanka' 'Israel' 'Finland' 'Qatar'\n",
            " 'Ecuador' 'Cases_on_an_international_conveyance_Japan' 'Germany'\n",
            " 'Romania' 'Afghanistan' 'Russia' 'Vietnam' 'New_Zealand' 'Netherlands'\n",
            " 'Monaco' 'Norway' 'Jordan' 'Saudi_Arabia' 'Andorra' 'Latvia' 'Portugal'\n",
            " 'Tunisia' 'Sint_Maarten' 'Senegal' 'Morocco' 'Chile' 'Poland' 'Ukraine'\n",
            " 'Argentina' 'Liechtenstein' 'Slovenia' 'Hungary' 'Faroe_Islands'\n",
            " 'Palestine' 'South_Africa' 'Bosnia_and_Herzegovina' 'Bhutan' 'Slovakia'\n",
            " 'Malta' 'Serbia' 'Togo' 'Peru' 'Costa_Rica' 'Colombia' 'Holy_See'\n",
            " 'Cameroon' 'Moldova' 'Bulgaria' 'Paraguay' 'Maldives' 'Bangladesh'\n",
            " 'Albania' 'Cyprus' 'Mongolia' 'Panama' 'Brunei_Darussalam'\n",
            " 'Democratic_Republic_of_the_Congo' 'Burkina_Faso' 'Jamaica'\n",
            " 'Cote_dIvoire' 'Bolivia' 'Cuba' 'Honduras' 'Turkey' 'Guyana' 'Aruba'\n",
            " 'Ghana' 'Curaçao' 'Trinidad_and_Tobago'\n",
            " 'Saint_Vincent_and_the_Grenadines' 'Gabon' 'Sudan' 'Guinea' 'Ethiopia'\n",
            " 'Kenya' 'Kosovo' 'Uruguay' 'Guatemala' 'Venezuela' 'Equatorial_Guinea'\n",
            " 'Mauritania' 'Suriname' 'Rwanda' 'Seychelles' 'Kazakhstan' 'Eswatini'\n",
            " 'Saint_Lucia' 'Antigua_and_Barbuda' 'Bahamas' 'Congo'\n",
            " 'Central_African_Republic' 'Uzbekistan' 'United_Republic_of_Tanzania'\n",
            " 'Somalia' 'Benin' 'Liberia' 'Myanmar' 'Barbados' 'Gambia' 'Montenegro'\n",
            " 'Guam' 'Djibouti' 'Zambia' 'Nicaragua' 'French_Polynesia' 'Kyrgyzstan'\n",
            " 'El_Salvador' 'Cayman_Islands' 'Bermuda' 'Greenland' 'Gibraltar'\n",
            " 'Guernsey' 'Jersey' 'Mauritius' 'Chad' 'Haiti' 'Fiji' 'Montserrat'\n",
            " 'Cape_Verde' 'Madagascar' 'New_Caledonia' 'Papua_New_Guinea' 'Niger'\n",
            " 'Isle_of_Man' 'Zimbabwe' 'Eritrea' 'Angola' 'Uganda' 'Timor_Leste'\n",
            " 'Syria' 'Grenada' 'Dominica' 'Mozambique' 'Belize'\n",
            " 'United_States_Virgin_Islands' 'Libya' 'Laos' 'Turks_and_Caicos_islands'\n",
            " 'Mali' 'Saint_Kitts_and_Nevis' 'Guinea_Bissau' 'Anguilla'\n",
            " 'British_Virgin_Islands' 'Puerto_Rico' 'Northern_Mariana_Islands'\n",
            " 'Botswana' 'Sierra_Leone' 'Burundi' 'Bonaire, Saint Eustatius and Saba'\n",
            " 'Malawi' 'Falkland_Islands_(Malvinas)' 'South_Sudan'\n",
            " 'Sao_Tome_and_Principe' 'Yemen' 'Western_Sahara' 'Tajikistan' 'Comoros'\n",
            " 'Lesotho' 'Solomon_Islands' 'Wallis_and_Futuna' 'Marshall_Islands'\n",
            " 'Vanuatu']\n"
          ]
        }
      ]
    },
    {
      "cell_type": "code",
      "metadata": {
        "colab": {
          "base_uri": "https://localhost:8080/"
        },
        "id": "jYHFhXDSrZQU",
        "outputId": "ba197643-4f89-4d39-d42c-eac3df3d7df7"
      },
      "source": [
        "negara = [\"Brunei_Darussalam\",\"Laos\", \"Myanmar\",\"Kamboja\",\"Philippines\", \"Malaysia\", \"Vietnam\", \"Thailand\" , \"Singapore\" , \"Indonesia\"]\n",
        "filter_list = [(df_covid_denormalized[\"country_name\"]==country_id).to_numpy() for country_id in negara]\n",
        "filter_array = np.column_stack(filter_list).sum(axis=1, dtype=\"bool\")\n",
        "df_covid_denormalized_asean = df_covid_denormalized[filter_array].sort_index()\n",
        "\n",
        "print(\"Cek nilai unik di kolom 'country_name':\", df_covid_denormalized_asean[\"country_name\"].unique())\n",
        "print(\"Cek nilai unik di kolom 'geo_id':\", df_covid_denormalized_asean[\"geo_id\"].unique())"
      ],
      "execution_count": null,
      "outputs": [
        {
          "output_type": "stream",
          "name": "stdout",
          "text": [
            "Cek nilai unik di kolom 'country_name': ['Malaysia' 'Indonesia' 'Singapore' 'Thailand' 'Vietnam' 'Philippines'\n",
            " 'Brunei_Darussalam' 'Myanmar' 'Laos']\n",
            "Cek nilai unik di kolom 'geo_id': ['MY' 'ID' 'SG' 'TH' 'VN' 'PH' 'BN' 'MM' 'LA']\n"
          ]
        }
      ]
    },
    {
      "cell_type": "code",
      "metadata": {
        "colab": {
          "base_uri": "https://localhost:8080/",
          "height": 424
        },
        "id": "L8KPzKwRpwuk",
        "outputId": "1d848950-e5c5-4e51-aac8-570b66c32a8f"
      },
      "source": [
        "asean_country_id = ['MY', 'ID', 'SG', 'TH', 'VN', 'PH', 'BN', 'MM', 'LA']\n",
        "filter_list = [(df_covid_denormalized[\"geo_id\"]==country_id).to_numpy() for country_id in asean_country_id]\n",
        "filter_array = np.column_stack(filter_list).sum(axis=1, dtype=\"bool\")\n",
        "df_covid_denormalized_asean = df_covid_denormalized[filter_array].sort_index()\n",
        "\n",
        "print(\"Cek nilai unik di kolom 'country_name':\", df_covid_denormalized_asean[\"country_name\"].unique())\n",
        "df_covid_denormalized_asean.head(10)"
      ],
      "execution_count": null,
      "outputs": [
        {
          "output_type": "stream",
          "name": "stdout",
          "text": [
            "Cek nilai unik di kolom 'country_name': ['Malaysia' 'Indonesia' 'Singapore' 'Thailand' 'Vietnam' 'Philippines'\n",
            " 'Brunei_Darussalam' 'Myanmar' 'Laos']\n"
          ]
        },
        {
          "output_type": "execute_result",
          "data": {
            "text/html": [
              "<div>\n",
              "<style scoped>\n",
              "    .dataframe tbody tr th:only-of-type {\n",
              "        vertical-align: middle;\n",
              "    }\n",
              "\n",
              "    .dataframe tbody tr th {\n",
              "        vertical-align: top;\n",
              "    }\n",
              "\n",
              "    .dataframe thead th {\n",
              "        text-align: right;\n",
              "    }\n",
              "</style>\n",
              "<table border=\"1\" class=\"dataframe\">\n",
              "  <thead>\n",
              "    <tr style=\"text-align: right;\">\n",
              "      <th></th>\n",
              "      <th>daily_confirmed_cases</th>\n",
              "      <th>daily_deaths</th>\n",
              "      <th>confirmed_cases</th>\n",
              "      <th>deaths</th>\n",
              "      <th>geo_id</th>\n",
              "      <th>country_name</th>\n",
              "    </tr>\n",
              "    <tr>\n",
              "      <th>date</th>\n",
              "      <th></th>\n",
              "      <th></th>\n",
              "      <th></th>\n",
              "      <th></th>\n",
              "      <th></th>\n",
              "      <th></th>\n",
              "    </tr>\n",
              "  </thead>\n",
              "  <tbody>\n",
              "    <tr>\n",
              "      <th>2019-12-31</th>\n",
              "      <td>0</td>\n",
              "      <td>0</td>\n",
              "      <td>0</td>\n",
              "      <td>0</td>\n",
              "      <td>MY</td>\n",
              "      <td>Malaysia</td>\n",
              "    </tr>\n",
              "    <tr>\n",
              "      <th>2019-12-31</th>\n",
              "      <td>0</td>\n",
              "      <td>0</td>\n",
              "      <td>0</td>\n",
              "      <td>0</td>\n",
              "      <td>ID</td>\n",
              "      <td>Indonesia</td>\n",
              "    </tr>\n",
              "    <tr>\n",
              "      <th>2019-12-31</th>\n",
              "      <td>0</td>\n",
              "      <td>0</td>\n",
              "      <td>0</td>\n",
              "      <td>0</td>\n",
              "      <td>SG</td>\n",
              "      <td>Singapore</td>\n",
              "    </tr>\n",
              "    <tr>\n",
              "      <th>2019-12-31</th>\n",
              "      <td>0</td>\n",
              "      <td>0</td>\n",
              "      <td>0</td>\n",
              "      <td>0</td>\n",
              "      <td>TH</td>\n",
              "      <td>Thailand</td>\n",
              "    </tr>\n",
              "    <tr>\n",
              "      <th>2019-12-31</th>\n",
              "      <td>0</td>\n",
              "      <td>0</td>\n",
              "      <td>0</td>\n",
              "      <td>0</td>\n",
              "      <td>VN</td>\n",
              "      <td>Vietnam</td>\n",
              "    </tr>\n",
              "    <tr>\n",
              "      <th>2019-12-31</th>\n",
              "      <td>0</td>\n",
              "      <td>0</td>\n",
              "      <td>0</td>\n",
              "      <td>0</td>\n",
              "      <td>PH</td>\n",
              "      <td>Philippines</td>\n",
              "    </tr>\n",
              "    <tr>\n",
              "      <th>2020-01-01</th>\n",
              "      <td>0</td>\n",
              "      <td>0</td>\n",
              "      <td>0</td>\n",
              "      <td>0</td>\n",
              "      <td>MY</td>\n",
              "      <td>Malaysia</td>\n",
              "    </tr>\n",
              "    <tr>\n",
              "      <th>2020-01-01</th>\n",
              "      <td>0</td>\n",
              "      <td>0</td>\n",
              "      <td>0</td>\n",
              "      <td>0</td>\n",
              "      <td>ID</td>\n",
              "      <td>Indonesia</td>\n",
              "    </tr>\n",
              "    <tr>\n",
              "      <th>2020-01-01</th>\n",
              "      <td>0</td>\n",
              "      <td>0</td>\n",
              "      <td>0</td>\n",
              "      <td>0</td>\n",
              "      <td>VN</td>\n",
              "      <td>Vietnam</td>\n",
              "    </tr>\n",
              "    <tr>\n",
              "      <th>2020-01-01</th>\n",
              "      <td>0</td>\n",
              "      <td>0</td>\n",
              "      <td>0</td>\n",
              "      <td>0</td>\n",
              "      <td>SG</td>\n",
              "      <td>Singapore</td>\n",
              "    </tr>\n",
              "  </tbody>\n",
              "</table>\n",
              "</div>"
            ],
            "text/plain": [
              "            daily_confirmed_cases  daily_deaths  confirmed_cases  deaths  \\\n",
              "date                                                                       \n",
              "2019-12-31                      0             0                0       0   \n",
              "2019-12-31                      0             0                0       0   \n",
              "2019-12-31                      0             0                0       0   \n",
              "2019-12-31                      0             0                0       0   \n",
              "2019-12-31                      0             0                0       0   \n",
              "2019-12-31                      0             0                0       0   \n",
              "2020-01-01                      0             0                0       0   \n",
              "2020-01-01                      0             0                0       0   \n",
              "2020-01-01                      0             0                0       0   \n",
              "2020-01-01                      0             0                0       0   \n",
              "\n",
              "           geo_id country_name  \n",
              "date                            \n",
              "2019-12-31     MY     Malaysia  \n",
              "2019-12-31     ID    Indonesia  \n",
              "2019-12-31     SG    Singapore  \n",
              "2019-12-31     TH     Thailand  \n",
              "2019-12-31     VN      Vietnam  \n",
              "2019-12-31     PH  Philippines  \n",
              "2020-01-01     MY     Malaysia  \n",
              "2020-01-01     ID    Indonesia  \n",
              "2020-01-01     VN      Vietnam  \n",
              "2020-01-01     SG    Singapore  "
            ]
          },
          "metadata": {},
          "execution_count": 15
        }
      ]
    },
    {
      "cell_type": "markdown",
      "metadata": {
        "id": "XygkM-88wWgq"
      },
      "source": [
        "Melihat Kapan Kasus Pertama di ASEAN"
      ]
    },
    {
      "cell_type": "code",
      "metadata": {
        "colab": {
          "base_uri": "https://localhost:8080/"
        },
        "id": "4efwbEpAwcMH",
        "outputId": "efc9fe2d-95d7-4f22-d109-b687d6a89beb"
      },
      "source": [
        "print(\"The first case popped up in each of 10 ASEAN countries:\")\n",
        "for country_id in asean_country_id:\n",
        "    asean_country = df_covid_denormalized_asean[df_covid_denormalized_asean[\"geo_id\"]==country_id]\n",
        "    first_case = asean_country[asean_country[\"confirmed_cases\"]>0][[\"confirmed_cases\",\"geo_id\",\"country_name\"]]\n",
        "    print(first_case.head(1))"
      ],
      "execution_count": null,
      "outputs": [
        {
          "output_type": "stream",
          "name": "stdout",
          "text": [
            "The first case popped up in each of 10 ASEAN countries:\n",
            "            confirmed_cases geo_id country_name\n",
            "date                                           \n",
            "2020-01-25                3     MY     Malaysia\n",
            "            confirmed_cases geo_id country_name\n",
            "date                                           \n",
            "2020-03-02                2     ID    Indonesia\n",
            "            confirmed_cases geo_id country_name\n",
            "date                                           \n",
            "2020-01-24                3     SG    Singapore\n",
            "            confirmed_cases geo_id country_name\n",
            "date                                           \n",
            "2020-01-13                1     TH     Thailand\n",
            "            confirmed_cases geo_id country_name\n",
            "date                                           \n",
            "2020-01-24                2     VN      Vietnam\n",
            "            confirmed_cases geo_id country_name\n",
            "date                                           \n",
            "2020-01-30                1     PH  Philippines\n",
            "            confirmed_cases geo_id       country_name\n",
            "date                                                 \n",
            "2020-03-10                1     BN  Brunei_Darussalam\n",
            "            confirmed_cases geo_id country_name\n",
            "date                                           \n",
            "2020-03-24                2     MM      Myanmar\n",
            "            confirmed_cases geo_id country_name\n",
            "date                                           \n",
            "2020-03-25                2     LA         Laos\n"
          ]
        }
      ]
    },
    {
      "cell_type": "markdown",
      "metadata": {
        "id": "w1IVEZbFxpXX"
      },
      "source": [
        "Melihat Kasus Covid-19 Mulai Maret 2020 di ASEAN"
      ]
    },
    {
      "cell_type": "code",
      "metadata": {
        "colab": {
          "base_uri": "https://localhost:8080/",
          "height": 235
        },
        "id": "JyXVMXR4xvfO",
        "outputId": "45292ef3-c56e-4254-b151-73be683dd99c"
      },
      "source": [
        "df_covid_denormalized_asean_march_onward = df_covid_denormalized_asean[df_covid_denormalized_asean.index>=\"2020-03-01\"]\n",
        "df_covid_denormalized_asean_march_onward.head()"
      ],
      "execution_count": null,
      "outputs": [
        {
          "output_type": "execute_result",
          "data": {
            "text/html": [
              "<div>\n",
              "<style scoped>\n",
              "    .dataframe tbody tr th:only-of-type {\n",
              "        vertical-align: middle;\n",
              "    }\n",
              "\n",
              "    .dataframe tbody tr th {\n",
              "        vertical-align: top;\n",
              "    }\n",
              "\n",
              "    .dataframe thead th {\n",
              "        text-align: right;\n",
              "    }\n",
              "</style>\n",
              "<table border=\"1\" class=\"dataframe\">\n",
              "  <thead>\n",
              "    <tr style=\"text-align: right;\">\n",
              "      <th></th>\n",
              "      <th>daily_confirmed_cases</th>\n",
              "      <th>daily_deaths</th>\n",
              "      <th>confirmed_cases</th>\n",
              "      <th>deaths</th>\n",
              "      <th>geo_id</th>\n",
              "      <th>country_name</th>\n",
              "    </tr>\n",
              "    <tr>\n",
              "      <th>date</th>\n",
              "      <th></th>\n",
              "      <th></th>\n",
              "      <th></th>\n",
              "      <th></th>\n",
              "      <th></th>\n",
              "      <th></th>\n",
              "    </tr>\n",
              "  </thead>\n",
              "  <tbody>\n",
              "    <tr>\n",
              "      <th>2020-03-01</th>\n",
              "      <td>4</td>\n",
              "      <td>0</td>\n",
              "      <td>102</td>\n",
              "      <td>0</td>\n",
              "      <td>SG</td>\n",
              "      <td>Singapore</td>\n",
              "    </tr>\n",
              "    <tr>\n",
              "      <th>2020-03-01</th>\n",
              "      <td>0</td>\n",
              "      <td>1</td>\n",
              "      <td>42</td>\n",
              "      <td>1</td>\n",
              "      <td>TH</td>\n",
              "      <td>Thailand</td>\n",
              "    </tr>\n",
              "    <tr>\n",
              "      <th>2020-03-01</th>\n",
              "      <td>0</td>\n",
              "      <td>0</td>\n",
              "      <td>25</td>\n",
              "      <td>0</td>\n",
              "      <td>MY</td>\n",
              "      <td>Malaysia</td>\n",
              "    </tr>\n",
              "    <tr>\n",
              "      <th>2020-03-01</th>\n",
              "      <td>0</td>\n",
              "      <td>0</td>\n",
              "      <td>0</td>\n",
              "      <td>0</td>\n",
              "      <td>ID</td>\n",
              "      <td>Indonesia</td>\n",
              "    </tr>\n",
              "    <tr>\n",
              "      <th>2020-03-01</th>\n",
              "      <td>0</td>\n",
              "      <td>0</td>\n",
              "      <td>3</td>\n",
              "      <td>1</td>\n",
              "      <td>PH</td>\n",
              "      <td>Philippines</td>\n",
              "    </tr>\n",
              "  </tbody>\n",
              "</table>\n",
              "</div>"
            ],
            "text/plain": [
              "            daily_confirmed_cases  daily_deaths  confirmed_cases  deaths  \\\n",
              "date                                                                       \n",
              "2020-03-01                      4             0              102       0   \n",
              "2020-03-01                      0             1               42       1   \n",
              "2020-03-01                      0             0               25       0   \n",
              "2020-03-01                      0             0                0       0   \n",
              "2020-03-01                      0             0                3       1   \n",
              "\n",
              "           geo_id country_name  \n",
              "date                            \n",
              "2020-03-01     SG    Singapore  \n",
              "2020-03-01     TH     Thailand  \n",
              "2020-03-01     MY     Malaysia  \n",
              "2020-03-01     ID    Indonesia  \n",
              "2020-03-01     PH  Philippines  "
            ]
          },
          "metadata": {},
          "execution_count": 19
        }
      ]
    },
    {
      "cell_type": "markdown",
      "metadata": {
        "id": "2x264zkYyNqa"
      },
      "source": [
        "Visualisasi Kasus Covid19 di ASEAN (Maret 2020 - Desember 2020)"
      ]
    },
    {
      "cell_type": "code",
      "metadata": {
        "colab": {
          "base_uri": "https://localhost:8080/",
          "height": 441
        },
        "id": "wFBlea8LyO9G",
        "outputId": "3bc1866e-6d1b-44c6-b8e9-18fd49f224b1"
      },
      "source": [
        "import seaborn as sns\n",
        "plt.figure(figsize=(16,6))\n",
        "sns.lineplot(data=df_covid_denormalized_asean_march_onward, \n",
        "             x=df_covid_denormalized_asean_march_onward.index, \n",
        "             y=\"confirmed_cases\", \n",
        "             hue=\"country_name\",\n",
        "             linewidth=2)\n",
        "plt.xlabel('Record Date', fontsize=14)\n",
        "plt.ylabel('Total Cases', fontsize=14)\n",
        "plt.title('Comparison of COVID19 Cases in 10 ASEAN Countries Until December 2020', color=\"b\", fontsize=18)\n",
        "plt.grid()\n",
        "plt.tight_layout()\n",
        "plt.show()"
      ],
      "execution_count": null,
      "outputs": [
        {
          "output_type": "display_data",
          "data": {
            "image/png": "[encoded data removed]",
            "text/plain": [
              "<Figure size 1152x432 with 1 Axes>"
            ]
          },
          "metadata": {
            "needs_background": "light"
          }
        }
      ]
    }
  ]
}