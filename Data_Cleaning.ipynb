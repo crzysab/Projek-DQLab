{
  "nbformat": 4,
  "nbformat_minor": 0,
  "metadata": {
    "colab": {
      "name": "Data_Cleaning.ipynb",
      "provenance": [],
      "authorship_tag": "ABX9TyOUjTpsEgGDxot4k0wMmWey",
      "include_colab_link": true
    },
    "kernelspec": {
      "name": "python3",
      "display_name": "Python 3"
    },
    "language_info": {
      "name": "python"
    }
  },
  "cells": [
    {
      "cell_type": "markdown",
      "metadata": {
        "id": "view-in-github",
        "colab_type": "text"
      },
      "source": [
        "<a href=\"https://colab.research.google.com/github/crzysab/Projek-DQLab/blob/main/Data_Cleaning.ipynb\" target=\"_parent\"><img src=\"https://colab.research.google.com/assets/colab-badge.svg\" alt=\"Open In Colab\"/></a>"
      ]
    },
    {
      "cell_type": "markdown",
      "metadata": {
        "id": "tRFkNH5pxIT7"
      },
      "source": [
        "Import Library"
      ]
    },
    {
      "cell_type": "code",
      "metadata": {
        "id": "dE8Dh5cDxDRr"
      },
      "source": [
        "import pandas as pd\n",
        "import matplotlib.pyplot as plt\n",
        "import seaborn as sns\n",
        "pd.options.display.max_columns = 50"
      ],
      "execution_count": 30,
      "outputs": []
    },
    {
      "cell_type": "markdown",
      "metadata": {
        "id": "pboIyvP9xSXu"
      },
      "source": [
        "Import Dataset"
      ]
    },
    {
      "cell_type": "code",
      "metadata": {
        "id": "OD6LRsMXxWRV"
      },
      "source": [
        "df = pd.read_csv('https://storage.googleapis.com/dqlab-dataset/dqlab_telco.csv')"
      ],
      "execution_count": 2,
      "outputs": []
    },
    {
      "cell_type": "code",
      "metadata": {
        "colab": {
          "base_uri": "https://localhost:8080/"
        },
        "id": "hs3L5_cKxaeV",
        "outputId": "64f01058-a207-442d-f934-e76937a983d1"
      },
      "source": [
        "#Tampilkan jumlah baris dan kolom\n",
        "df.shape"
      ],
      "execution_count": 8,
      "outputs": [
        {
          "output_type": "execute_result",
          "data": {
            "text/plain": [
              "(7113, 22)"
            ]
          },
          "metadata": {},
          "execution_count": 8
        }
      ]
    },
    {
      "cell_type": "markdown",
      "metadata": {
        "id": "D3KDvt4SxfMq"
      },
      "source": [
        "Menampilkan Data"
      ]
    },
    {
      "cell_type": "code",
      "metadata": {
        "colab": {
          "base_uri": "https://localhost:8080/",
          "height": 292
        },
        "id": "XjsCZKnOxgX8",
        "outputId": "69b09acc-b3cb-4ec4-d8e6-cd9fe294cbef"
      },
      "source": [
        "df.head()"
      ],
      "execution_count": 5,
      "outputs": [
        {
          "output_type": "execute_result",
          "data": {
            "text/html": [
              "<div>\n",
              "<style scoped>\n",
              "    .dataframe tbody tr th:only-of-type {\n",
              "        vertical-align: middle;\n",
              "    }\n",
              "\n",
              "    .dataframe tbody tr th {\n",
              "        vertical-align: top;\n",
              "    }\n",
              "\n",
              "    .dataframe thead th {\n",
              "        text-align: right;\n",
              "    }\n",
              "</style>\n",
              "<table border=\"1\" class=\"dataframe\">\n",
              "  <thead>\n",
              "    <tr style=\"text-align: right;\">\n",
              "      <th></th>\n",
              "      <th>UpdatedAt</th>\n",
              "      <th>customerID</th>\n",
              "      <th>gender</th>\n",
              "      <th>SeniorCitizen</th>\n",
              "      <th>Partner</th>\n",
              "      <th>Dependents</th>\n",
              "      <th>tenure</th>\n",
              "      <th>PhoneService</th>\n",
              "      <th>MultipleLines</th>\n",
              "      <th>InternetService</th>\n",
              "      <th>OnlineSecurity</th>\n",
              "      <th>OnlineBackup</th>\n",
              "      <th>DeviceProtection</th>\n",
              "      <th>TechSupport</th>\n",
              "      <th>StreamingTV</th>\n",
              "      <th>StreamingMovies</th>\n",
              "      <th>Contract</th>\n",
              "      <th>PaperlessBilling</th>\n",
              "      <th>PaymentMethod</th>\n",
              "      <th>MonthlyCharges</th>\n",
              "      <th>TotalCharges</th>\n",
              "      <th>Churn</th>\n",
              "    </tr>\n",
              "  </thead>\n",
              "  <tbody>\n",
              "    <tr>\n",
              "      <th>0</th>\n",
              "      <td>202006</td>\n",
              "      <td>45759018157</td>\n",
              "      <td>Female</td>\n",
              "      <td>0</td>\n",
              "      <td>Yes</td>\n",
              "      <td>No</td>\n",
              "      <td>1.0</td>\n",
              "      <td>No</td>\n",
              "      <td>No phone service</td>\n",
              "      <td>DSL</td>\n",
              "      <td>No</td>\n",
              "      <td>Yes</td>\n",
              "      <td>No</td>\n",
              "      <td>No</td>\n",
              "      <td>No</td>\n",
              "      <td>No</td>\n",
              "      <td>Month-to-month</td>\n",
              "      <td>Yes</td>\n",
              "      <td>Electronic check</td>\n",
              "      <td>29.85</td>\n",
              "      <td>29.85</td>\n",
              "      <td>No</td>\n",
              "    </tr>\n",
              "    <tr>\n",
              "      <th>1</th>\n",
              "      <td>202006</td>\n",
              "      <td>45557574145</td>\n",
              "      <td>Male</td>\n",
              "      <td>0</td>\n",
              "      <td>No</td>\n",
              "      <td>No</td>\n",
              "      <td>34.0</td>\n",
              "      <td>Yes</td>\n",
              "      <td>No</td>\n",
              "      <td>DSL</td>\n",
              "      <td>Yes</td>\n",
              "      <td>No</td>\n",
              "      <td>Yes</td>\n",
              "      <td>No</td>\n",
              "      <td>No</td>\n",
              "      <td>No</td>\n",
              "      <td>One year</td>\n",
              "      <td>No</td>\n",
              "      <td>Mailed check</td>\n",
              "      <td>56.95</td>\n",
              "      <td>1889.50</td>\n",
              "      <td>No</td>\n",
              "    </tr>\n",
              "    <tr>\n",
              "      <th>2</th>\n",
              "      <td>202006</td>\n",
              "      <td>45366876421</td>\n",
              "      <td>Male</td>\n",
              "      <td>0</td>\n",
              "      <td>No</td>\n",
              "      <td>No</td>\n",
              "      <td>2.0</td>\n",
              "      <td>Yes</td>\n",
              "      <td>No</td>\n",
              "      <td>DSL</td>\n",
              "      <td>Yes</td>\n",
              "      <td>Yes</td>\n",
              "      <td>No</td>\n",
              "      <td>No</td>\n",
              "      <td>No</td>\n",
              "      <td>No</td>\n",
              "      <td>Month-to-month</td>\n",
              "      <td>Yes</td>\n",
              "      <td>Mailed check</td>\n",
              "      <td>53.85</td>\n",
              "      <td>108.15</td>\n",
              "      <td>Yes</td>\n",
              "    </tr>\n",
              "    <tr>\n",
              "      <th>3</th>\n",
              "      <td>202006</td>\n",
              "      <td>45779536532</td>\n",
              "      <td>Male</td>\n",
              "      <td>0</td>\n",
              "      <td>No</td>\n",
              "      <td>No</td>\n",
              "      <td>45.0</td>\n",
              "      <td>No</td>\n",
              "      <td>No phone service</td>\n",
              "      <td>DSL</td>\n",
              "      <td>Yes</td>\n",
              "      <td>No</td>\n",
              "      <td>Yes</td>\n",
              "      <td>Yes</td>\n",
              "      <td>No</td>\n",
              "      <td>No</td>\n",
              "      <td>One year</td>\n",
              "      <td>No</td>\n",
              "      <td>Bank transfer (automatic)</td>\n",
              "      <td>42.30</td>\n",
              "      <td>1840.75</td>\n",
              "      <td>No</td>\n",
              "    </tr>\n",
              "    <tr>\n",
              "      <th>4</th>\n",
              "      <td>202006</td>\n",
              "      <td>45923787906</td>\n",
              "      <td>Female</td>\n",
              "      <td>0</td>\n",
              "      <td>No</td>\n",
              "      <td>No</td>\n",
              "      <td>2.0</td>\n",
              "      <td>Yes</td>\n",
              "      <td>No</td>\n",
              "      <td>Fiber optic</td>\n",
              "      <td>No</td>\n",
              "      <td>No</td>\n",
              "      <td>No</td>\n",
              "      <td>No</td>\n",
              "      <td>No</td>\n",
              "      <td>No</td>\n",
              "      <td>Month-to-month</td>\n",
              "      <td>Yes</td>\n",
              "      <td>Electronic check</td>\n",
              "      <td>70.70</td>\n",
              "      <td>151.65</td>\n",
              "      <td>Yes</td>\n",
              "    </tr>\n",
              "  </tbody>\n",
              "</table>\n",
              "</div>"
            ],
            "text/plain": [
              "   UpdatedAt   customerID  gender  SeniorCitizen Partner Dependents  tenure  \\\n",
              "0     202006  45759018157  Female              0     Yes         No     1.0   \n",
              "1     202006  45557574145    Male              0      No         No    34.0   \n",
              "2     202006  45366876421    Male              0      No         No     2.0   \n",
              "3     202006  45779536532    Male              0      No         No    45.0   \n",
              "4     202006  45923787906  Female              0      No         No     2.0   \n",
              "\n",
              "  PhoneService     MultipleLines InternetService OnlineSecurity OnlineBackup  \\\n",
              "0           No  No phone service             DSL             No          Yes   \n",
              "1          Yes                No             DSL            Yes           No   \n",
              "2          Yes                No             DSL            Yes          Yes   \n",
              "3           No  No phone service             DSL            Yes           No   \n",
              "4          Yes                No     Fiber optic             No           No   \n",
              "\n",
              "  DeviceProtection TechSupport StreamingTV StreamingMovies        Contract  \\\n",
              "0               No          No          No              No  Month-to-month   \n",
              "1              Yes          No          No              No        One year   \n",
              "2               No          No          No              No  Month-to-month   \n",
              "3              Yes         Yes          No              No        One year   \n",
              "4               No          No          No              No  Month-to-month   \n",
              "\n",
              "  PaperlessBilling              PaymentMethod  MonthlyCharges  TotalCharges  \\\n",
              "0              Yes           Electronic check           29.85         29.85   \n",
              "1               No               Mailed check           56.95       1889.50   \n",
              "2              Yes               Mailed check           53.85        108.15   \n",
              "3               No  Bank transfer (automatic)           42.30       1840.75   \n",
              "4              Yes           Electronic check           70.70        151.65   \n",
              "\n",
              "  Churn  \n",
              "0    No  \n",
              "1    No  \n",
              "2   Yes  \n",
              "3    No  \n",
              "4   Yes  "
            ]
          },
          "metadata": {},
          "execution_count": 5
        }
      ]
    },
    {
      "cell_type": "code",
      "metadata": {
        "colab": {
          "base_uri": "https://localhost:8080/"
        },
        "id": "AGqeTMQgxvXQ",
        "outputId": "84e6b936-9549-40e2-99ba-6080efdec597"
      },
      "source": [
        "#Jumlah ID yang unik\n",
        "df.customerID.nunique()"
      ],
      "execution_count": 9,
      "outputs": [
        {
          "output_type": "execute_result",
          "data": {
            "text/plain": [
              "7017"
            ]
          },
          "metadata": {},
          "execution_count": 9
        }
      ]
    },
    {
      "cell_type": "markdown",
      "metadata": {
        "id": "jeK3vTVpyj4N"
      },
      "source": [
        "Filter ID Number Pelanggan"
      ]
    },
    {
      "cell_type": "code",
      "metadata": {
        "id": "sekWajIrymRi"
      },
      "source": [
        "#membuat kolom bantuan\n",
        "df['valid_id'] = df['customerID'].astype(str).str.match(r'(45\\d{9,10})')\n",
        "#2 digit pertama adalah angka 45 diikuti 9-10 angka dibelakangnya\n",
        "\n",
        "#menghapus kolom bantuan\n",
        "df = (df[df['valid_id'] == True]).drop('valid_id', axis=1)"
      ],
      "execution_count": 11,
      "outputs": []
    },
    {
      "cell_type": "code",
      "metadata": {
        "colab": {
          "base_uri": "https://localhost:8080/"
        },
        "id": "UEPDSH7ozhio",
        "outputId": "824d03c1-53c6-45b7-ab76-3f1e732ad503"
      },
      "source": [
        "print('Hasil jumlah ID Customer yang terfilter adalah', df['customerID'].count())"
      ],
      "execution_count": 12,
      "outputs": [
        {
          "output_type": "stream",
          "name": "stdout",
          "text": [
            "Hasil jumlah ID Customer yang terfilter adalah 7006\n"
          ]
        }
      ]
    },
    {
      "cell_type": "markdown",
      "metadata": {
        "id": "VmcBaSJqzqIy"
      },
      "source": [
        "filter Duplikasi ID Number Pelanggan"
      ]
    },
    {
      "cell_type": "code",
      "metadata": {
        "colab": {
          "base_uri": "https://localhost:8080/",
          "height": 575
        },
        "id": "uNcCHIqzzq2d",
        "outputId": "fb913550-8dfb-4a6f-9d41-eadb9d5750b0"
      },
      "source": [
        "# Drop Duplicate Rows\n",
        "df.drop_duplicates()"
      ],
      "execution_count": 13,
      "outputs": [
        {
          "output_type": "execute_result",
          "data": {
            "text/html": [
              "<div>\n",
              "<style scoped>\n",
              "    .dataframe tbody tr th:only-of-type {\n",
              "        vertical-align: middle;\n",
              "    }\n",
              "\n",
              "    .dataframe tbody tr th {\n",
              "        vertical-align: top;\n",
              "    }\n",
              "\n",
              "    .dataframe thead th {\n",
              "        text-align: right;\n",
              "    }\n",
              "</style>\n",
              "<table border=\"1\" class=\"dataframe\">\n",
              "  <thead>\n",
              "    <tr style=\"text-align: right;\">\n",
              "      <th></th>\n",
              "      <th>UpdatedAt</th>\n",
              "      <th>customerID</th>\n",
              "      <th>gender</th>\n",
              "      <th>SeniorCitizen</th>\n",
              "      <th>Partner</th>\n",
              "      <th>Dependents</th>\n",
              "      <th>tenure</th>\n",
              "      <th>PhoneService</th>\n",
              "      <th>MultipleLines</th>\n",
              "      <th>InternetService</th>\n",
              "      <th>OnlineSecurity</th>\n",
              "      <th>OnlineBackup</th>\n",
              "      <th>DeviceProtection</th>\n",
              "      <th>TechSupport</th>\n",
              "      <th>StreamingTV</th>\n",
              "      <th>StreamingMovies</th>\n",
              "      <th>Contract</th>\n",
              "      <th>PaperlessBilling</th>\n",
              "      <th>PaymentMethod</th>\n",
              "      <th>MonthlyCharges</th>\n",
              "      <th>TotalCharges</th>\n",
              "      <th>Churn</th>\n",
              "    </tr>\n",
              "  </thead>\n",
              "  <tbody>\n",
              "    <tr>\n",
              "      <th>0</th>\n",
              "      <td>202006</td>\n",
              "      <td>45759018157</td>\n",
              "      <td>Female</td>\n",
              "      <td>0</td>\n",
              "      <td>Yes</td>\n",
              "      <td>No</td>\n",
              "      <td>1.0</td>\n",
              "      <td>No</td>\n",
              "      <td>No phone service</td>\n",
              "      <td>DSL</td>\n",
              "      <td>No</td>\n",
              "      <td>Yes</td>\n",
              "      <td>No</td>\n",
              "      <td>No</td>\n",
              "      <td>No</td>\n",
              "      <td>No</td>\n",
              "      <td>Month-to-month</td>\n",
              "      <td>Yes</td>\n",
              "      <td>Electronic check</td>\n",
              "      <td>29.85</td>\n",
              "      <td>29.85</td>\n",
              "      <td>No</td>\n",
              "    </tr>\n",
              "    <tr>\n",
              "      <th>1</th>\n",
              "      <td>202006</td>\n",
              "      <td>45557574145</td>\n",
              "      <td>Male</td>\n",
              "      <td>0</td>\n",
              "      <td>No</td>\n",
              "      <td>No</td>\n",
              "      <td>34.0</td>\n",
              "      <td>Yes</td>\n",
              "      <td>No</td>\n",
              "      <td>DSL</td>\n",
              "      <td>Yes</td>\n",
              "      <td>No</td>\n",
              "      <td>Yes</td>\n",
              "      <td>No</td>\n",
              "      <td>No</td>\n",
              "      <td>No</td>\n",
              "      <td>One year</td>\n",
              "      <td>No</td>\n",
              "      <td>Mailed check</td>\n",
              "      <td>56.95</td>\n",
              "      <td>1889.50</td>\n",
              "      <td>No</td>\n",
              "    </tr>\n",
              "    <tr>\n",
              "      <th>2</th>\n",
              "      <td>202006</td>\n",
              "      <td>45366876421</td>\n",
              "      <td>Male</td>\n",
              "      <td>0</td>\n",
              "      <td>No</td>\n",
              "      <td>No</td>\n",
              "      <td>2.0</td>\n",
              "      <td>Yes</td>\n",
              "      <td>No</td>\n",
              "      <td>DSL</td>\n",
              "      <td>Yes</td>\n",
              "      <td>Yes</td>\n",
              "      <td>No</td>\n",
              "      <td>No</td>\n",
              "      <td>No</td>\n",
              "      <td>No</td>\n",
              "      <td>Month-to-month</td>\n",
              "      <td>Yes</td>\n",
              "      <td>Mailed check</td>\n",
              "      <td>53.85</td>\n",
              "      <td>108.15</td>\n",
              "      <td>Yes</td>\n",
              "    </tr>\n",
              "    <tr>\n",
              "      <th>3</th>\n",
              "      <td>202006</td>\n",
              "      <td>45779536532</td>\n",
              "      <td>Male</td>\n",
              "      <td>0</td>\n",
              "      <td>No</td>\n",
              "      <td>No</td>\n",
              "      <td>45.0</td>\n",
              "      <td>No</td>\n",
              "      <td>No phone service</td>\n",
              "      <td>DSL</td>\n",
              "      <td>Yes</td>\n",
              "      <td>No</td>\n",
              "      <td>Yes</td>\n",
              "      <td>Yes</td>\n",
              "      <td>No</td>\n",
              "      <td>No</td>\n",
              "      <td>One year</td>\n",
              "      <td>No</td>\n",
              "      <td>Bank transfer (automatic)</td>\n",
              "      <td>42.30</td>\n",
              "      <td>1840.75</td>\n",
              "      <td>No</td>\n",
              "    </tr>\n",
              "    <tr>\n",
              "      <th>4</th>\n",
              "      <td>202006</td>\n",
              "      <td>45923787906</td>\n",
              "      <td>Female</td>\n",
              "      <td>0</td>\n",
              "      <td>No</td>\n",
              "      <td>No</td>\n",
              "      <td>2.0</td>\n",
              "      <td>Yes</td>\n",
              "      <td>No</td>\n",
              "      <td>Fiber optic</td>\n",
              "      <td>No</td>\n",
              "      <td>No</td>\n",
              "      <td>No</td>\n",
              "      <td>No</td>\n",
              "      <td>No</td>\n",
              "      <td>No</td>\n",
              "      <td>Month-to-month</td>\n",
              "      <td>Yes</td>\n",
              "      <td>Electronic check</td>\n",
              "      <td>70.70</td>\n",
              "      <td>151.65</td>\n",
              "      <td>Yes</td>\n",
              "    </tr>\n",
              "    <tr>\n",
              "      <th>...</th>\n",
              "      <td>...</td>\n",
              "      <td>...</td>\n",
              "      <td>...</td>\n",
              "      <td>...</td>\n",
              "      <td>...</td>\n",
              "      <td>...</td>\n",
              "      <td>...</td>\n",
              "      <td>...</td>\n",
              "      <td>...</td>\n",
              "      <td>...</td>\n",
              "      <td>...</td>\n",
              "      <td>...</td>\n",
              "      <td>...</td>\n",
              "      <td>...</td>\n",
              "      <td>...</td>\n",
              "      <td>...</td>\n",
              "      <td>...</td>\n",
              "      <td>...</td>\n",
              "      <td>...</td>\n",
              "      <td>...</td>\n",
              "      <td>...</td>\n",
              "      <td>...</td>\n",
              "    </tr>\n",
              "    <tr>\n",
              "      <th>7108</th>\n",
              "      <td>202006</td>\n",
              "      <td>45117219093</td>\n",
              "      <td>Male</td>\n",
              "      <td>0</td>\n",
              "      <td>Yes</td>\n",
              "      <td>Yes</td>\n",
              "      <td>53.0</td>\n",
              "      <td>Yes</td>\n",
              "      <td>Yes</td>\n",
              "      <td>DSL</td>\n",
              "      <td>Yes</td>\n",
              "      <td>Yes</td>\n",
              "      <td>No</td>\n",
              "      <td>No</td>\n",
              "      <td>No</td>\n",
              "      <td>Yes</td>\n",
              "      <td>Two year</td>\n",
              "      <td>No</td>\n",
              "      <td>Bank transfer (automatic)</td>\n",
              "      <td>69.70</td>\n",
              "      <td>3686.05</td>\n",
              "      <td>NaN</td>\n",
              "    </tr>\n",
              "    <tr>\n",
              "      <th>7109</th>\n",
              "      <td>202006</td>\n",
              "      <td>45564915800</td>\n",
              "      <td>Female</td>\n",
              "      <td>0</td>\n",
              "      <td>No</td>\n",
              "      <td>No</td>\n",
              "      <td>12.0</td>\n",
              "      <td>Yes</td>\n",
              "      <td>No</td>\n",
              "      <td>Fiber optic</td>\n",
              "      <td>No</td>\n",
              "      <td>No</td>\n",
              "      <td>Yes</td>\n",
              "      <td>No</td>\n",
              "      <td>Yes</td>\n",
              "      <td>Yes</td>\n",
              "      <td>One year</td>\n",
              "      <td>No</td>\n",
              "      <td>Mailed check</td>\n",
              "      <td>95.50</td>\n",
              "      <td>1115.15</td>\n",
              "      <td>NaN</td>\n",
              "    </tr>\n",
              "    <tr>\n",
              "      <th>7110</th>\n",
              "      <td>202006</td>\n",
              "      <td>45655964195</td>\n",
              "      <td>Male</td>\n",
              "      <td>0</td>\n",
              "      <td>No</td>\n",
              "      <td>No</td>\n",
              "      <td>26.0</td>\n",
              "      <td>Yes</td>\n",
              "      <td>No</td>\n",
              "      <td>Fiber optic</td>\n",
              "      <td>No</td>\n",
              "      <td>No</td>\n",
              "      <td>Yes</td>\n",
              "      <td>Yes</td>\n",
              "      <td>Yes</td>\n",
              "      <td>Yes</td>\n",
              "      <td>Month-to-month</td>\n",
              "      <td>Yes</td>\n",
              "      <td>Electronic check</td>\n",
              "      <td>98.65</td>\n",
              "      <td>2537.00</td>\n",
              "      <td>NaN</td>\n",
              "    </tr>\n",
              "    <tr>\n",
              "      <th>7111</th>\n",
              "      <td>202006</td>\n",
              "      <td>45899251814</td>\n",
              "      <td>Male</td>\n",
              "      <td>0</td>\n",
              "      <td>No</td>\n",
              "      <td>No</td>\n",
              "      <td>21.0</td>\n",
              "      <td>Yes</td>\n",
              "      <td>No</td>\n",
              "      <td>DSL</td>\n",
              "      <td>No</td>\n",
              "      <td>No</td>\n",
              "      <td>Yes</td>\n",
              "      <td>No</td>\n",
              "      <td>No</td>\n",
              "      <td>Yes</td>\n",
              "      <td>Month-to-month</td>\n",
              "      <td>No</td>\n",
              "      <td>Mailed check</td>\n",
              "      <td>61.65</td>\n",
              "      <td>1393.60</td>\n",
              "      <td>NaN</td>\n",
              "    </tr>\n",
              "    <tr>\n",
              "      <th>7112</th>\n",
              "      <td>202006</td>\n",
              "      <td>45427332508</td>\n",
              "      <td>Female</td>\n",
              "      <td>0</td>\n",
              "      <td>No</td>\n",
              "      <td>Yes</td>\n",
              "      <td>1.0</td>\n",
              "      <td>Yes</td>\n",
              "      <td>No</td>\n",
              "      <td>Fiber optic</td>\n",
              "      <td>No</td>\n",
              "      <td>No</td>\n",
              "      <td>No</td>\n",
              "      <td>No</td>\n",
              "      <td>Yes</td>\n",
              "      <td>Yes</td>\n",
              "      <td>Month-to-month</td>\n",
              "      <td>Yes</td>\n",
              "      <td>Electronic check</td>\n",
              "      <td>89.35</td>\n",
              "      <td>89.35</td>\n",
              "      <td>NaN</td>\n",
              "    </tr>\n",
              "  </tbody>\n",
              "</table>\n",
              "<p>6999 rows × 22 columns</p>\n",
              "</div>"
            ],
            "text/plain": [
              "      UpdatedAt   customerID  gender  SeniorCitizen Partner Dependents  \\\n",
              "0        202006  45759018157  Female              0     Yes         No   \n",
              "1        202006  45557574145    Male              0      No         No   \n",
              "2        202006  45366876421    Male              0      No         No   \n",
              "3        202006  45779536532    Male              0      No         No   \n",
              "4        202006  45923787906  Female              0      No         No   \n",
              "...         ...          ...     ...            ...     ...        ...   \n",
              "7108     202006  45117219093    Male              0     Yes        Yes   \n",
              "7109     202006  45564915800  Female              0      No         No   \n",
              "7110     202006  45655964195    Male              0      No         No   \n",
              "7111     202006  45899251814    Male              0      No         No   \n",
              "7112     202006  45427332508  Female              0      No        Yes   \n",
              "\n",
              "      tenure PhoneService     MultipleLines InternetService OnlineSecurity  \\\n",
              "0        1.0           No  No phone service             DSL             No   \n",
              "1       34.0          Yes                No             DSL            Yes   \n",
              "2        2.0          Yes                No             DSL            Yes   \n",
              "3       45.0           No  No phone service             DSL            Yes   \n",
              "4        2.0          Yes                No     Fiber optic             No   \n",
              "...      ...          ...               ...             ...            ...   \n",
              "7108    53.0          Yes               Yes             DSL            Yes   \n",
              "7109    12.0          Yes                No     Fiber optic             No   \n",
              "7110    26.0          Yes                No     Fiber optic             No   \n",
              "7111    21.0          Yes                No             DSL             No   \n",
              "7112     1.0          Yes                No     Fiber optic             No   \n",
              "\n",
              "     OnlineBackup DeviceProtection TechSupport StreamingTV StreamingMovies  \\\n",
              "0             Yes               No          No          No              No   \n",
              "1              No              Yes          No          No              No   \n",
              "2             Yes               No          No          No              No   \n",
              "3              No              Yes         Yes          No              No   \n",
              "4              No               No          No          No              No   \n",
              "...           ...              ...         ...         ...             ...   \n",
              "7108          Yes               No          No          No             Yes   \n",
              "7109           No              Yes          No         Yes             Yes   \n",
              "7110           No              Yes         Yes         Yes             Yes   \n",
              "7111           No              Yes          No          No             Yes   \n",
              "7112           No               No          No         Yes             Yes   \n",
              "\n",
              "            Contract PaperlessBilling              PaymentMethod  \\\n",
              "0     Month-to-month              Yes           Electronic check   \n",
              "1           One year               No               Mailed check   \n",
              "2     Month-to-month              Yes               Mailed check   \n",
              "3           One year               No  Bank transfer (automatic)   \n",
              "4     Month-to-month              Yes           Electronic check   \n",
              "...              ...              ...                        ...   \n",
              "7108        Two year               No  Bank transfer (automatic)   \n",
              "7109        One year               No               Mailed check   \n",
              "7110  Month-to-month              Yes           Electronic check   \n",
              "7111  Month-to-month               No               Mailed check   \n",
              "7112  Month-to-month              Yes           Electronic check   \n",
              "\n",
              "      MonthlyCharges  TotalCharges Churn  \n",
              "0              29.85         29.85    No  \n",
              "1              56.95       1889.50    No  \n",
              "2              53.85        108.15   Yes  \n",
              "3              42.30       1840.75    No  \n",
              "4              70.70        151.65   Yes  \n",
              "...              ...           ...   ...  \n",
              "7108           69.70       3686.05   NaN  \n",
              "7109           95.50       1115.15   NaN  \n",
              "7110           98.65       2537.00   NaN  \n",
              "7111           61.65       1393.60   NaN  \n",
              "7112           89.35         89.35   NaN  \n",
              "\n",
              "[6999 rows x 22 columns]"
            ]
          },
          "metadata": {},
          "execution_count": 13
        }
      ]
    },
    {
      "cell_type": "code",
      "metadata": {
        "id": "zQRyFsAYz4WW"
      },
      "source": [
        "# Drop duplicate ID sorted by Periode\n",
        "df = df.sort_values('UpdatedAt',ascending=False).drop_duplicates(['customerID'])\n",
        "#diurutkan berdasarkan periode pada kolom UpdateAt secara decending kemudian dilakukan penghapusan duplikasi"
      ],
      "execution_count": 16,
      "outputs": []
    },
    {
      "cell_type": "code",
      "metadata": {
        "colab": {
          "base_uri": "https://localhost:8080/"
        },
        "id": "fEtptaEi0H8a",
        "outputId": "fe8cd023-e450-4b3d-9dfa-dc1002a12397"
      },
      "source": [
        "print('Hasil jumlah ID Customer yang sudah dihilangkan duplikasinya (distinct) adalah',df['customerID'].count())"
      ],
      "execution_count": 15,
      "outputs": [
        {
          "output_type": "stream",
          "name": "stdout",
          "text": [
            "Hasil jumlah ID Customer yang sudah dihilangkan duplikasinya (distinct) adalah 6993\n"
          ]
        }
      ]
    },
    {
      "cell_type": "markdown",
      "metadata": {
        "id": "ajZVpqKq0VGc"
      },
      "source": [
        "Mengatasi Missing Values dengan Penghapusan Rows"
      ]
    },
    {
      "cell_type": "code",
      "metadata": {
        "colab": {
          "base_uri": "https://localhost:8080/"
        },
        "id": "hZ46jrYf0aIi",
        "outputId": "baab1dc5-7fe8-4f48-a086-d2c9ce253e68"
      },
      "source": [
        "#Penghapusan Missing Value pada kolom Churn\n",
        "print('Total missing values data dari kolom Churn',df['Churn'].isnull().sum())"
      ],
      "execution_count": 17,
      "outputs": [
        {
          "output_type": "stream",
          "name": "stdout",
          "text": [
            "Total missing values data dari kolom Churn 43\n"
          ]
        }
      ]
    },
    {
      "cell_type": "code",
      "metadata": {
        "id": "2BsPxcgf0xFF"
      },
      "source": [
        "# Mengapus missing value pada spesifik kolom (Churn)\n",
        "df.dropna(subset=['Churn'], inplace=True)"
      ],
      "execution_count": 18,
      "outputs": []
    },
    {
      "cell_type": "code",
      "metadata": {
        "colab": {
          "base_uri": "https://localhost:8080/"
        },
        "id": "WBEO6Rhz09zo",
        "outputId": "e2cda1a7-f678-4d43-ebe4-17e5fa3e4e6a"
      },
      "source": [
        "print('Total missing values data dari kolom Churn setelah dihapus',df['Churn'].isnull().sum())"
      ],
      "execution_count": 19,
      "outputs": [
        {
          "output_type": "stream",
          "name": "stdout",
          "text": [
            "Total missing values data dari kolom Churn setelah dihapus 0\n"
          ]
        }
      ]
    },
    {
      "cell_type": "code",
      "metadata": {
        "colab": {
          "base_uri": "https://localhost:8080/"
        },
        "id": "spqG7v0E1C18",
        "outputId": "5fb82f9b-84a3-499c-ea6f-8460c0dce9c0"
      },
      "source": [
        "print('Total Rows dan kolom Data setelah dihapus data Missing Values adalah', df.shape)"
      ],
      "execution_count": 20,
      "outputs": [
        {
          "output_type": "stream",
          "name": "stdout",
          "text": [
            "Total Rows dan kolom Data setelah dihapus data Missing Values adalah (6950, 22)\n"
          ]
        }
      ]
    },
    {
      "cell_type": "markdown",
      "metadata": {
        "id": "6z59FMsk1J3A"
      },
      "source": [
        "Missing Values dengan Pengisian Nilai tertentu"
      ]
    },
    {
      "cell_type": "code",
      "metadata": {
        "colab": {
          "base_uri": "https://localhost:8080/"
        },
        "id": "CUahTwWb1KTe",
        "outputId": "01a1dcc1-72b1-4dea-98a8-569c50ad1e06"
      },
      "source": [
        "#Cek Status Missing Value\n",
        "print('Status Missing Values:', df.isnull().values.any())"
      ],
      "execution_count": 22,
      "outputs": [
        {
          "output_type": "stream",
          "name": "stdout",
          "text": [
            "Status Missing Values: True\n"
          ]
        }
      ]
    },
    {
      "cell_type": "code",
      "metadata": {
        "colab": {
          "base_uri": "https://localhost:8080/"
        },
        "id": "VP7AGxlR1Z3R",
        "outputId": "40da13e2-d848-407f-d458-473a921806de"
      },
      "source": [
        "#Cek Missing Value di Masing-masing kolom\n",
        "print('Jumlah Missing Values masing-masing kolom, adalah:')\n",
        "df.isnull().sum().sort_values(ascending=False)"
      ],
      "execution_count": 25,
      "outputs": [
        {
          "output_type": "stream",
          "name": "stdout",
          "text": [
            "Jumlah Missing Values masing-masing kolom, adalah:\n"
          ]
        },
        {
          "output_type": "execute_result",
          "data": {
            "text/plain": [
              "tenure              99\n",
              "MonthlyCharges      26\n",
              "TotalCharges        15\n",
              "Churn                0\n",
              "InternetService      0\n",
              "customerID           0\n",
              "gender               0\n",
              "SeniorCitizen        0\n",
              "Partner              0\n",
              "Dependents           0\n",
              "PhoneService         0\n",
              "MultipleLines        0\n",
              "OnlineSecurity       0\n",
              "OnlineBackup         0\n",
              "DeviceProtection     0\n",
              "TechSupport          0\n",
              "StreamingTV          0\n",
              "StreamingMovies      0\n",
              "Contract             0\n",
              "PaperlessBilling     0\n",
              "PaymentMethod        0\n",
              "UpdatedAt            0\n",
              "dtype: int64"
            ]
          },
          "metadata": {},
          "execution_count": 25
        }
      ]
    },
    {
      "cell_type": "code",
      "metadata": {
        "id": "RT5Lk-QI1sfs"
      },
      "source": [
        "#Mengatasi missing values pada kolom Tenure dengan 11\n",
        "#pihak data modeller meminta setiap rows yang memiliki missing values untuk Lama berlangganan di isi dengan 11\n",
        "df['tenure'].fillna(11 , inplace=True)"
      ],
      "execution_count": 26,
      "outputs": []
    },
    {
      "cell_type": "code",
      "metadata": {
        "id": "S-hlBk3d16v8"
      },
      "source": [
        "#Mengatasi missing values Variable angka (kecuali Tenure)\n",
        "for col_name in list(['MonthlyCharges','TotalCharges']):\n",
        "  #menggunakan median\n",
        "\tmedian = df[col_name].median() #mendapatkan nilai median untuk setiap kolom\n",
        "\tdf[col_name].fillna(median, inplace=True) #mengatasi missing value dengan mengisikan median"
      ],
      "execution_count": 27,
      "outputs": []
    },
    {
      "cell_type": "code",
      "metadata": {
        "colab": {
          "base_uri": "https://localhost:8080/"
        },
        "id": "t9Je-xnu2SFx",
        "outputId": "4456b898-557d-41eb-d7ec-c217f0ca56a6"
      },
      "source": [
        "print('Jumlah Missing Values Setelah di imputer datanya, adalah:')\n",
        "df.isnull().sum().sort_values(ascending=False)"
      ],
      "execution_count": 28,
      "outputs": [
        {
          "output_type": "stream",
          "name": "stdout",
          "text": [
            "Jumlah Missing Values Setelah di imputer datanya, adalah:\n"
          ]
        },
        {
          "output_type": "execute_result",
          "data": {
            "text/plain": [
              "Churn               0\n",
              "TotalCharges        0\n",
              "customerID          0\n",
              "gender              0\n",
              "SeniorCitizen       0\n",
              "Partner             0\n",
              "Dependents          0\n",
              "tenure              0\n",
              "PhoneService        0\n",
              "MultipleLines       0\n",
              "InternetService     0\n",
              "OnlineSecurity      0\n",
              "OnlineBackup        0\n",
              "DeviceProtection    0\n",
              "TechSupport         0\n",
              "StreamingTV         0\n",
              "StreamingMovies     0\n",
              "Contract            0\n",
              "PaperlessBilling    0\n",
              "PaymentMethod       0\n",
              "MonthlyCharges      0\n",
              "UpdatedAt           0\n",
              "dtype: int64"
            ]
          },
          "metadata": {},
          "execution_count": 28
        }
      ]
    },
    {
      "cell_type": "markdown",
      "metadata": {
        "id": "h7Dp3g9V2o13"
      },
      "source": [
        "Mendeteksi adanya Outlier (Boxplot)"
      ]
    },
    {
      "cell_type": "code",
      "metadata": {
        "colab": {
          "base_uri": "https://localhost:8080/",
          "height": 314
        },
        "id": "unOrXFUC2pIk",
        "outputId": "1f44c445-3f31-4821-9a7b-f60b02663371"
      },
      "source": [
        "print('Persebaran data sebelum ditangani Outlier: ')\n",
        "df[['tenure','MonthlyCharges','TotalCharges']].describe()"
      ],
      "execution_count": 29,
      "outputs": [
        {
          "output_type": "stream",
          "name": "stdout",
          "text": [
            "Persebaran data sebelum ditangani Outlier: \n"
          ]
        },
        {
          "output_type": "execute_result",
          "data": {
            "text/html": [
              "<div>\n",
              "<style scoped>\n",
              "    .dataframe tbody tr th:only-of-type {\n",
              "        vertical-align: middle;\n",
              "    }\n",
              "\n",
              "    .dataframe tbody tr th {\n",
              "        vertical-align: top;\n",
              "    }\n",
              "\n",
              "    .dataframe thead th {\n",
              "        text-align: right;\n",
              "    }\n",
              "</style>\n",
              "<table border=\"1\" class=\"dataframe\">\n",
              "  <thead>\n",
              "    <tr style=\"text-align: right;\">\n",
              "      <th></th>\n",
              "      <th>tenure</th>\n",
              "      <th>MonthlyCharges</th>\n",
              "      <th>TotalCharges</th>\n",
              "    </tr>\n",
              "  </thead>\n",
              "  <tbody>\n",
              "    <tr>\n",
              "      <th>count</th>\n",
              "      <td>6950.000000</td>\n",
              "      <td>6950.000000</td>\n",
              "      <td>6950.000000</td>\n",
              "    </tr>\n",
              "    <tr>\n",
              "      <th>mean</th>\n",
              "      <td>32.477266</td>\n",
              "      <td>65.783741</td>\n",
              "      <td>2305.083460</td>\n",
              "    </tr>\n",
              "    <tr>\n",
              "      <th>std</th>\n",
              "      <td>25.188910</td>\n",
              "      <td>50.457871</td>\n",
              "      <td>2578.651143</td>\n",
              "    </tr>\n",
              "    <tr>\n",
              "      <th>min</th>\n",
              "      <td>0.000000</td>\n",
              "      <td>0.000000</td>\n",
              "      <td>19.000000</td>\n",
              "    </tr>\n",
              "    <tr>\n",
              "      <th>25%</th>\n",
              "      <td>9.000000</td>\n",
              "      <td>36.462500</td>\n",
              "      <td>406.975000</td>\n",
              "    </tr>\n",
              "    <tr>\n",
              "      <th>50%</th>\n",
              "      <td>29.000000</td>\n",
              "      <td>70.450000</td>\n",
              "      <td>1400.850000</td>\n",
              "    </tr>\n",
              "    <tr>\n",
              "      <th>75%</th>\n",
              "      <td>55.000000</td>\n",
              "      <td>89.850000</td>\n",
              "      <td>3799.837500</td>\n",
              "    </tr>\n",
              "    <tr>\n",
              "      <th>max</th>\n",
              "      <td>500.000000</td>\n",
              "      <td>2311.000000</td>\n",
              "      <td>80000.000000</td>\n",
              "    </tr>\n",
              "  </tbody>\n",
              "</table>\n",
              "</div>"
            ],
            "text/plain": [
              "            tenure  MonthlyCharges  TotalCharges\n",
              "count  6950.000000     6950.000000   6950.000000\n",
              "mean     32.477266       65.783741   2305.083460\n",
              "std      25.188910       50.457871   2578.651143\n",
              "min       0.000000        0.000000     19.000000\n",
              "25%       9.000000       36.462500    406.975000\n",
              "50%      29.000000       70.450000   1400.850000\n",
              "75%      55.000000       89.850000   3799.837500\n",
              "max     500.000000     2311.000000  80000.000000"
            ]
          },
          "metadata": {},
          "execution_count": 29
        }
      ]
    },
    {
      "cell_type": "code",
      "metadata": {
        "colab": {
          "base_uri": "https://localhost:8080/",
          "height": 803
        },
        "id": "EZmgkUN-3A0C",
        "outputId": "d3f41a38-5f64-4286-8ae5-ac17270ab9dd"
      },
      "source": [
        "plt.figure()\n",
        "sns.boxplot(x=df['tenure'])\n",
        "plt.show()\n",
        "\n",
        "plt.figure()\n",
        "sns.boxplot(x=df['MonthlyCharges'])\n",
        "plt.show()\n",
        "\n",
        "plt.figure()\n",
        "sns.boxplot(x=df['TotalCharges'])\n",
        "plt.show()"
      ],
      "execution_count": 32,
      "outputs": [
        {
          "output_type": "display_data",
          "data": {
            "image/png": "[encoded data removed]",
            "text/plain": [
              "<Figure size 432x288 with 1 Axes>"
            ]
          },
          "metadata": {
            "needs_background": "light"
          }
        },
        {
          "output_type": "display_data",
          "data": {
            "image/png": "[encoded data removed]",
            "text/plain": [
              "<Figure size 432x288 with 1 Axes>"
            ]
          },
          "metadata": {
            "needs_background": "light"
          }
        },
        {
          "output_type": "display_data",
          "data": {
            "image/png": "[encoded data removed]",
            "text/plain": [
              "<Figure size 432x288 with 1 Axes>"
            ]
          },
          "metadata": {
            "needs_background": "light"
          }
        }
      ]
    },
    {
      "cell_type": "markdown",
      "metadata": {
        "id": "5wP_QDq43Yhq"
      },
      "source": [
        "Mengatasi Outlier"
      ]
    },
    {
      "cell_type": "code",
      "metadata": {
        "id": "MpQ2orOi3Y9Z"
      },
      "source": [
        "Q1 = (df[['tenure','MonthlyCharges','TotalCharges']]).quantile(0.25)\n",
        "Q3 = (df[['tenure','MonthlyCharges','TotalCharges']]).quantile(0.75)"
      ],
      "execution_count": 34,
      "outputs": []
    },
    {
      "cell_type": "code",
      "metadata": {
        "colab": {
          "base_uri": "https://localhost:8080/"
        },
        "id": "QM9MQ5TD3jZ-",
        "outputId": "a95e08c2-119c-403a-b63f-97779f7d97b2"
      },
      "source": [
        "IQR = Q3-Q1\n",
        "maximum = Q3+(1.5*IQR)\n",
        "print('Nilai Maximum dari masing-masing Variable adalah:')\n",
        "print(maximum)\n",
        "minimum = Q1-(1.5*IQR)\n",
        "print('\\nNilai Minimum dari masing-masing Variable adalah:')\n",
        "print(minimum)"
      ],
      "execution_count": 36,
      "outputs": [
        {
          "output_type": "stream",
          "name": "stdout",
          "text": [
            "Nilai Maximum dari masing-masing Variable adalah:\n",
            "tenure             124.00000\n",
            "MonthlyCharges     169.93125\n",
            "TotalCharges      8889.13125\n",
            "dtype: float64\n",
            "\n",
            "Nilai Minimum dari masing-masing Variable adalah:\n",
            "tenure             -60.00000\n",
            "MonthlyCharges     -43.61875\n",
            "TotalCharges     -4682.31875\n",
            "dtype: float64\n"
          ]
        }
      ]
    },
    {
      "cell_type": "code",
      "metadata": {
        "id": "KP7riRN84AJ9"
      },
      "source": [
        "#Ubah Nilai yg di luar Range Minumum & Maximum ke dalam nilai Minimum dan Maximum\n",
        "more_than = (df>maximum)\n",
        "lower_than = (df<minimum)\n",
        "df = df.mask(more_than,maximum,axis=1)\n",
        "df = df.mask(lower_than, minimum, axis=1)"
      ],
      "execution_count": 37,
      "outputs": []
    },
    {
      "cell_type": "code",
      "metadata": {
        "colab": {
          "base_uri": "https://localhost:8080/"
        },
        "id": "EzbVZJBO4Mxs",
        "outputId": "fec20b8b-9889-4eea-d8ea-244ec68e0ea5"
      },
      "source": [
        "print('Persebaran data setelah ditangani Outlier:')\n",
        "print(df[['tenure','MonthlyCharges','TotalCharges']].describe())"
      ],
      "execution_count": 38,
      "outputs": [
        {
          "output_type": "stream",
          "name": "stdout",
          "text": [
            "Persebaran data setelah ditangani Outlier:\n",
            "            tenure  MonthlyCharges  TotalCharges\n",
            "count  6950.000000     6950.000000   6950.000000\n",
            "mean     32.423165       64.992201   2286.058750\n",
            "std      24.581073       30.032040   2265.702553\n",
            "min       0.000000        0.000000     19.000000\n",
            "25%       9.000000       36.462500    406.975000\n",
            "50%      29.000000       70.450000   1400.850000\n",
            "75%      55.000000       89.850000   3799.837500\n",
            "max     124.000000      169.931250   8889.131250\n"
          ]
        }
      ]
    },
    {
      "cell_type": "code",
      "metadata": {
        "colab": {
          "base_uri": "https://localhost:8080/",
          "height": 803
        },
        "id": "a_mMMBiL4lnM",
        "outputId": "24650868-842d-440e-a409-aaabc8763b24"
      },
      "source": [
        "plt.figure()\n",
        "sns.boxplot(x=df['tenure'])\n",
        "plt.show()\n",
        "\n",
        "plt.figure()\n",
        "sns.boxplot(x=df['MonthlyCharges'])\n",
        "plt.show()\n",
        "\n",
        "plt.figure()\n",
        "sns.boxplot(x=df['TotalCharges'])\n",
        "plt.show()"
      ],
      "execution_count": 41,
      "outputs": [
        {
          "output_type": "display_data",
          "data": {
            "image/png": "[encoded data removed]",
            "text/plain": [
              "<Figure size 432x288 with 1 Axes>"
            ]
          },
          "metadata": {
            "needs_background": "light"
          }
        },
        {
          "output_type": "display_data",
          "data": {
            "image/png": "[encoded data removed]",
            "text/plain": [
              "<Figure size 432x288 with 1 Axes>"
            ]
          },
          "metadata": {
            "needs_background": "light"
          }
        },
        {
          "output_type": "display_data",
          "data": {
            "image/png": "[encoded data removed]",
            "text/plain": [
              "<Figure size 432x288 with 1 Axes>"
            ]
          },
          "metadata": {
            "needs_background": "light"
          }
        }
      ]
    },
    {
      "cell_type": "markdown",
      "metadata": {
        "id": "ulj8xnn54vaQ"
      },
      "source": [
        "Mendeteksi Nilai yang tidak Standar"
      ]
    },
    {
      "cell_type": "code",
      "metadata": {
        "colab": {
          "base_uri": "https://localhost:8080/"
        },
        "id": "mjWtR-Ps4x6m",
        "outputId": "68ec2097-e787-4c0f-f3ee-b347c4d46a06"
      },
      "source": [
        "for col_name in list(['gender','SeniorCitizen','Partner','Dependents','PhoneService','MultipleLines','InternetService','OnlineSecurity','OnlineBackup','DeviceProtection','TechSupport','StreamingTV','StreamingMovies','Contract','PaperlessBilling','PaymentMethod','Churn']):\n",
        "    print('\\nUnique Values Count \\033[1m' + 'Before Standardized \\033[0m Variable',col_name)\n",
        "    print(df[col_name].value_counts())"
      ],
      "execution_count": 45,
      "outputs": [
        {
          "output_type": "stream",
          "name": "stdout",
          "text": [
            "\n",
            "Unique Values Count \u001b[1mBefore Standardized \u001b[0m Variable gender\n",
            "Male         3499\n",
            "Female       3431\n",
            "Wanita         14\n",
            "Laki-Laki       6\n",
            "Name: gender, dtype: int64\n",
            "\n",
            "Unique Values Count \u001b[1mBefore Standardized \u001b[0m Variable SeniorCitizen\n",
            "0    5822\n",
            "1    1128\n",
            "Name: SeniorCitizen, dtype: int64\n",
            "\n",
            "Unique Values Count \u001b[1mBefore Standardized \u001b[0m Variable Partner\n",
            "No     3591\n",
            "Yes    3359\n",
            "Name: Partner, dtype: int64\n",
            "\n",
            "Unique Values Count \u001b[1mBefore Standardized \u001b[0m Variable Dependents\n",
            "No     4870\n",
            "Yes    2060\n",
            "Iya      20\n",
            "Name: Dependents, dtype: int64\n",
            "\n",
            "Unique Values Count \u001b[1mBefore Standardized \u001b[0m Variable PhoneService\n",
            "Yes    6281\n",
            "No      669\n",
            "Name: PhoneService, dtype: int64\n",
            "\n",
            "Unique Values Count \u001b[1mBefore Standardized \u001b[0m Variable MultipleLines\n",
            "No                  3346\n",
            "Yes                 2935\n",
            "No phone service     669\n",
            "Name: MultipleLines, dtype: int64\n",
            "\n",
            "Unique Values Count \u001b[1mBefore Standardized \u001b[0m Variable InternetService\n",
            "Fiber optic    3057\n",
            "DSL            2388\n",
            "No             1505\n",
            "Name: InternetService, dtype: int64\n",
            "\n",
            "Unique Values Count \u001b[1mBefore Standardized \u001b[0m Variable OnlineSecurity\n",
            "No                     3454\n",
            "Yes                    1991\n",
            "No internet service    1505\n",
            "Name: OnlineSecurity, dtype: int64\n",
            "\n",
            "Unique Values Count \u001b[1mBefore Standardized \u001b[0m Variable OnlineBackup\n",
            "No                     3045\n",
            "Yes                    2400\n",
            "No internet service    1505\n",
            "Name: OnlineBackup, dtype: int64\n",
            "\n",
            "Unique Values Count \u001b[1mBefore Standardized \u001b[0m Variable DeviceProtection\n",
            "No                     3054\n",
            "Yes                    2391\n",
            "No internet service    1505\n",
            "Name: DeviceProtection, dtype: int64\n",
            "\n",
            "Unique Values Count \u001b[1mBefore Standardized \u001b[0m Variable TechSupport\n",
            "No                     3431\n",
            "Yes                    2014\n",
            "No internet service    1505\n",
            "Name: TechSupport, dtype: int64\n",
            "\n",
            "Unique Values Count \u001b[1mBefore Standardized \u001b[0m Variable StreamingTV\n",
            "No                     2774\n",
            "Yes                    2671\n",
            "No internet service    1505\n",
            "Name: StreamingTV, dtype: int64\n",
            "\n",
            "Unique Values Count \u001b[1mBefore Standardized \u001b[0m Variable StreamingMovies\n",
            "No                     2747\n",
            "Yes                    2698\n",
            "No internet service    1505\n",
            "Name: StreamingMovies, dtype: int64\n",
            "\n",
            "Unique Values Count \u001b[1mBefore Standardized \u001b[0m Variable Contract\n",
            "Month-to-month    3823\n",
            "Two year          1670\n",
            "One year          1457\n",
            "Name: Contract, dtype: int64\n",
            "\n",
            "Unique Values Count \u001b[1mBefore Standardized \u001b[0m Variable PaperlessBilling\n",
            "Yes    4114\n",
            "No     2836\n",
            "Name: PaperlessBilling, dtype: int64\n",
            "\n",
            "Unique Values Count \u001b[1mBefore Standardized \u001b[0m Variable PaymentMethod\n",
            "Electronic check             2337\n",
            "Mailed check                 1594\n",
            "Bank transfer (automatic)    1519\n",
            "Credit card (automatic)      1500\n",
            "Name: PaymentMethod, dtype: int64\n",
            "\n",
            "Unique Values Count \u001b[1mBefore Standardized \u001b[0m Variable Churn\n",
            "No       5114\n",
            "Yes      1827\n",
            "Churn       9\n",
            "Name: Churn, dtype: int64\n"
          ]
        }
      ]
    },
    {
      "cell_type": "markdown",
      "metadata": {
        "id": "WnNBKvl56seb"
      },
      "source": [
        "Menstandarisasi Variable Kategorik"
      ]
    },
    {
      "cell_type": "code",
      "metadata": {
        "colab": {
          "base_uri": "https://localhost:8080/"
        },
        "id": "snvS6SwD6tDd",
        "outputId": "895a5a08-d0a9-4f6c-b1ff-4e04a3af777a"
      },
      "source": [
        "df = df.replace(['Wanita','Laki-laki','Iya','Churn'],['Female','Male','Yes','Yes'])\n",
        "\n",
        "for col_name in list(['gender', 'Dependents', 'Churn']):\n",
        " # write your command here\n",
        "\tprint('\\nUnique Value Count \\033[1m'+'After Standardized\\033[0m Variable',col_name)\n",
        "\tprint(df[col_name].value_counts())"
      ],
      "execution_count": 46,
      "outputs": [
        {
          "output_type": "stream",
          "name": "stdout",
          "text": [
            "\n",
            "Unique Value Count \u001b[1mAfter Standardized\u001b[0m Variable gender\n",
            "Male         3499\n",
            "Female       3445\n",
            "Laki-Laki       6\n",
            "Name: gender, dtype: int64\n",
            "\n",
            "Unique Value Count \u001b[1mAfter Standardized\u001b[0m Variable Dependents\n",
            "No     4870\n",
            "Yes    2080\n",
            "Name: Dependents, dtype: int64\n",
            "\n",
            "Unique Value Count \u001b[1mAfter Standardized\u001b[0m Variable Churn\n",
            "No     5114\n",
            "Yes    1836\n",
            "Name: Churn, dtype: int64\n"
          ]
        }
      ]
    }
  ]
}