{
  "nbformat": 4,
  "nbformat_minor": 0,
  "metadata": {
    "colab": {
      "name": "Data Quality with Python.ipynb",
      "provenance": [],
      "collapsed_sections": [],
      "authorship_tag": "ABX9TyPbVPp5HIqfMWTtK71Wtgse",
      "include_colab_link": true
    },
    "kernelspec": {
      "name": "python3",
      "display_name": "Python 3"
    },
    "language_info": {
      "name": "python"
    }
  },
  "cells": [
    {
      "cell_type": "markdown",
      "metadata": {
        "id": "view-in-github",
        "colab_type": "text"
      },
      "source": [
        "<a href=\"https://colab.research.google.com/github/crzysab/Projek-DQLab/blob/main/Data_Quality_with_Python.ipynb\" target=\"_parent\"><img src=\"https://colab.research.google.com/assets/colab-badge.svg\" alt=\"Open In Colab\"/></a>"
      ]
    },
    {
      "cell_type": "markdown",
      "metadata": {
        "id": "1Q8tciL8OmmG"
      },
      "source": [
        "Import Modules"
      ]
    },
    {
      "cell_type": "code",
      "metadata": {
        "id": "Ldx_xgHrOizY"
      },
      "source": [
        "import pandas as pd\n",
        "import numpy as np\n",
        "import io\n",
        "import pandas_profiling"
      ],
      "execution_count": null,
      "outputs": []
    },
    {
      "cell_type": "markdown",
      "metadata": {
        "id": "rXIYDeixOpmJ"
      },
      "source": [
        "Membaca Data"
      ]
    },
    {
      "cell_type": "code",
      "metadata": {
        "id": "lo7ki-45Ostx"
      },
      "source": [
        "retail_raw = pd.read_csv('https://storage.googleapis.com/dqlab-dataset/retail_raw_reduced_data_quality.csv')"
      ],
      "execution_count": null,
      "outputs": []
    },
    {
      "cell_type": "code",
      "metadata": {
        "colab": {
          "base_uri": "https://localhost:8080/"
        },
        "id": "eWX3bqHiOwa-",
        "outputId": "fb926707-7576-4254-ef66-cc609ac7596c"
      },
      "source": [
        "# Cetak tipe data di setiap kolom retail_raw\n",
        "retail_raw.dtypes"
      ],
      "execution_count": null,
      "outputs": [
        {
          "output_type": "execute_result",
          "data": {
            "text/plain": [
              "order_id         int64\n",
              "order_date      object\n",
              "customer_id      int64\n",
              "city            object\n",
              "province        object\n",
              "product_id      object\n",
              "brand           object\n",
              "quantity       float64\n",
              "item_price     float64\n",
              "dtype: object"
            ]
          },
          "metadata": {},
          "execution_count": 35
        }
      ]
    },
    {
      "cell_type": "code",
      "metadata": {
        "colab": {
          "base_uri": "https://localhost:8080/",
          "height": 204
        },
        "id": "rYtLvPb6O42B",
        "outputId": "92df9cc0-1cea-4011-b74c-fd14d7461f27"
      },
      "source": [
        "retail_raw.head()"
      ],
      "execution_count": null,
      "outputs": [
        {
          "output_type": "execute_result",
          "data": {
            "text/html": [
              "<div>\n",
              "<style scoped>\n",
              "    .dataframe tbody tr th:only-of-type {\n",
              "        vertical-align: middle;\n",
              "    }\n",
              "\n",
              "    .dataframe tbody tr th {\n",
              "        vertical-align: top;\n",
              "    }\n",
              "\n",
              "    .dataframe thead th {\n",
              "        text-align: right;\n",
              "    }\n",
              "</style>\n",
              "<table border=\"1\" class=\"dataframe\">\n",
              "  <thead>\n",
              "    <tr style=\"text-align: right;\">\n",
              "      <th></th>\n",
              "      <th>order_id</th>\n",
              "      <th>order_date</th>\n",
              "      <th>customer_id</th>\n",
              "      <th>city</th>\n",
              "      <th>province</th>\n",
              "      <th>product_id</th>\n",
              "      <th>brand</th>\n",
              "      <th>quantity</th>\n",
              "      <th>item_price</th>\n",
              "    </tr>\n",
              "  </thead>\n",
              "  <tbody>\n",
              "    <tr>\n",
              "      <th>0</th>\n",
              "      <td>1703458</td>\n",
              "      <td>17/10/2019</td>\n",
              "      <td>14004</td>\n",
              "      <td>Jakarta Selatan</td>\n",
              "      <td>DKI Jakarta</td>\n",
              "      <td>P1910</td>\n",
              "      <td>BRAND_J</td>\n",
              "      <td>10.0</td>\n",
              "      <td>740000.0</td>\n",
              "    </tr>\n",
              "    <tr>\n",
              "      <th>1</th>\n",
              "      <td>1706815</td>\n",
              "      <td>24/10/2019</td>\n",
              "      <td>17220</td>\n",
              "      <td>Jakarta Selatan</td>\n",
              "      <td>DKI Jakarta</td>\n",
              "      <td>P2934</td>\n",
              "      <td>BRAND_R</td>\n",
              "      <td>2.0</td>\n",
              "      <td>604000.0</td>\n",
              "    </tr>\n",
              "    <tr>\n",
              "      <th>2</th>\n",
              "      <td>1710718</td>\n",
              "      <td>03/11/2019</td>\n",
              "      <td>16518</td>\n",
              "      <td>Jakarta Utara</td>\n",
              "      <td>DKI Jakarta</td>\n",
              "      <td>P0908</td>\n",
              "      <td>BRAND_C</td>\n",
              "      <td>8.0</td>\n",
              "      <td>1045000.0</td>\n",
              "    </tr>\n",
              "    <tr>\n",
              "      <th>3</th>\n",
              "      <td>1683592</td>\n",
              "      <td>19/08/2019</td>\n",
              "      <td>16364</td>\n",
              "      <td>Jakarta Barat</td>\n",
              "      <td>DKI Jakarta</td>\n",
              "      <td>P0128</td>\n",
              "      <td>BRAND_A</td>\n",
              "      <td>4.0</td>\n",
              "      <td>205000.0</td>\n",
              "    </tr>\n",
              "    <tr>\n",
              "      <th>4</th>\n",
              "      <td>1702573</td>\n",
              "      <td>16/10/2019</td>\n",
              "      <td>15696</td>\n",
              "      <td>Jakarta Timur</td>\n",
              "      <td>DKI Jakarta</td>\n",
              "      <td>P2968</td>\n",
              "      <td>BRAND_R</td>\n",
              "      <td>2.0</td>\n",
              "      <td>NaN</td>\n",
              "    </tr>\n",
              "  </tbody>\n",
              "</table>\n",
              "</div>"
            ],
            "text/plain": [
              "   order_id  order_date  customer_id  ...    brand quantity item_price\n",
              "0   1703458  17/10/2019        14004  ...  BRAND_J     10.0   740000.0\n",
              "1   1706815  24/10/2019        17220  ...  BRAND_R      2.0   604000.0\n",
              "2   1710718  03/11/2019        16518  ...  BRAND_C      8.0  1045000.0\n",
              "3   1683592  19/08/2019        16364  ...  BRAND_A      4.0   205000.0\n",
              "4   1702573  16/10/2019        15696  ...  BRAND_R      2.0        NaN\n",
              "\n",
              "[5 rows x 9 columns]"
            ]
          },
          "metadata": {},
          "execution_count": 36
        }
      ]
    },
    {
      "cell_type": "markdown",
      "metadata": {
        "id": "_IxGkjkqPCtQ"
      },
      "source": [
        "Descriptive Statistics - Part 1"
      ]
    },
    {
      "cell_type": "markdown",
      "metadata": {
        "id": "gmDXb9GZQHCp"
      },
      "source": [
        "Length\n",
        "\n",
        "Fungsi len menghitung jumlah pengamatan dalam suatu series/column. \n",
        "Fungsi len akan menghitung semua pengamatan, terlepas dari apakah ada null-value atau tidak (include missing value)."
      ]
    },
    {
      "cell_type": "code",
      "metadata": {
        "colab": {
          "base_uri": "https://localhost:8080/"
        },
        "id": "uYdSwM95PDKZ",
        "outputId": "1900bb42-7b1f-4ce6-dd4b-bc9a52223091"
      },
      "source": [
        "# Kolom city\n",
        "length_city = len(retail_raw['city'])\n",
        "print('Length kolom city:', length_city)"
      ],
      "execution_count": null,
      "outputs": [
        {
          "output_type": "stream",
          "name": "stdout",
          "text": [
            "Length kolom city: 5000\n"
          ]
        }
      ]
    },
    {
      "cell_type": "code",
      "metadata": {
        "colab": {
          "base_uri": "https://localhost:8080/"
        },
        "id": "cHVTaj21PrPX",
        "outputId": "4dc1b2d8-6568-4cfb-f4c1-0ac48c15a7c5"
      },
      "source": [
        "# Kolom product_id\n",
        "length_product_id = len(retail_raw['product_id'])\n",
        "print('Length kolom product_id:', length_product_id)"
      ],
      "execution_count": null,
      "outputs": [
        {
          "output_type": "stream",
          "name": "stdout",
          "text": [
            "Length kolom product_id: 5000\n"
          ]
        }
      ]
    },
    {
      "cell_type": "markdown",
      "metadata": {
        "id": "EH0abp91QKBt"
      },
      "source": [
        "Descriptive Statistics - Part 2"
      ]
    },
    {
      "cell_type": "markdown",
      "metadata": {
        "id": "B1rTZYusQNhS"
      },
      "source": [
        "Count\n",
        "\n",
        "Fungsi count menghitung jumlah pengamatan non-NA/non-null dalam suatu series/column. Di lain pihak, fungsi len akan hanya menghitung jumlah elemen dari kolom baik kolom bersangkutan memiliki atau tidak memiliki missing value (include missing value)."
      ]
    },
    {
      "cell_type": "code",
      "metadata": {
        "colab": {
          "base_uri": "https://localhost:8080/"
        },
        "id": "ESYhpxbeQSxQ",
        "outputId": "0d004846-d803-41a3-b4a7-0a6b499fdb97"
      },
      "source": [
        "# Count kolom city\n",
        "count_city = retail_raw['city'].count()\n",
        "print('Count kolom count_city:', count_city)"
      ],
      "execution_count": null,
      "outputs": [
        {
          "output_type": "stream",
          "name": "stdout",
          "text": [
            "Count kolom count_city: 4984\n"
          ]
        }
      ]
    },
    {
      "cell_type": "code",
      "metadata": {
        "colab": {
          "base_uri": "https://localhost:8080/"
        },
        "id": "i31U_l0yQvyQ",
        "outputId": "bfa25a92-43e3-4151-ec42-bc9f54b487e1"
      },
      "source": [
        "# Count kolom product_id\n",
        "count_product_id = retail_raw['product_id'].count()\n",
        "print('Count kolom product_id:', count_product_id)"
      ],
      "execution_count": null,
      "outputs": [
        {
          "output_type": "stream",
          "name": "stdout",
          "text": [
            "Count kolom product_id: 4989\n"
          ]
        }
      ]
    },
    {
      "cell_type": "markdown",
      "metadata": {
        "id": "TwrCNpVDQ64F"
      },
      "source": [
        "Descriptive Statistics - Part 3"
      ]
    },
    {
      "cell_type": "markdown",
      "metadata": {
        "id": "yz127ZaCQ7WM"
      },
      "source": [
        "Missing Value"
      ]
    },
    {
      "cell_type": "code",
      "metadata": {
        "colab": {
          "base_uri": "https://localhost:8080/"
        },
        "id": "vR-nVLQwQ8mY",
        "outputId": "6642a08e-8a07-4b43-d9a4-aa8b33b29e9b"
      },
      "source": [
        "# Missing value pada kolom city\n",
        "number_of_missing_values_city = length_city - count_city\n",
        "float_of_missing_values_city = float(number_of_missing_values_city/length_city)\n",
        "pct_of_missing_values_city = '{0:.1f}%'.format(float_of_missing_values_city*100)\n",
        "print('Persentase missing value kolom city:', pct_of_missing_values_city)"
      ],
      "execution_count": null,
      "outputs": [
        {
          "output_type": "stream",
          "name": "stdout",
          "text": [
            "Persentase missing value kolom city: 0.3%\n"
          ]
        }
      ]
    },
    {
      "cell_type": "code",
      "metadata": {
        "colab": {
          "base_uri": "https://localhost:8080/"
        },
        "id": "oQserxG3SPlw",
        "outputId": "91a49d09-805d-4674-a565-ce197b3e8120"
      },
      "source": [
        "# Missing value pada kolom product_id\n",
        "number_of_missing_values_product_id = length_product_id - count_product_id\n",
        "float_of_missing_values_product_id = float(number_of_missing_values_product_id/length_product_id)\n",
        "pct_of_missing_values_product_id = '{0:.1f}%'.format(float_of_missing_values_product_id * 100)\n",
        "print('Persentase missing value kolom product_id:', pct_of_missing_values_product_id)"
      ],
      "execution_count": null,
      "outputs": [
        {
          "output_type": "stream",
          "name": "stdout",
          "text": [
            "Persentase missing value kolom product_id: 0.2%\n"
          ]
        }
      ]
    },
    {
      "cell_type": "markdown",
      "metadata": {
        "id": "Y9gzeOpXShID"
      },
      "source": [
        "Descriptive Statistics - Part 4"
      ]
    },
    {
      "cell_type": "markdown",
      "metadata": {
        "id": "J6FpMdBXSieb"
      },
      "source": [
        "Maximum, Minimum, Mean, Median, Modus dan Standard Deviasi"
      ]
    },
    {
      "cell_type": "code",
      "metadata": {
        "colab": {
          "base_uri": "https://localhost:8080/"
        },
        "id": "fDvZmHIPSktx",
        "outputId": "103dbbdd-9964-4b16-bc01-3dc9a957ad4e"
      },
      "source": [
        "# Deskriptif statistics kolom quantity\n",
        "print('Kolom quantity')\n",
        "print('Minimum value: ', retail_raw['quantity'].min())\n",
        "print('Maximum value: ', retail_raw['quantity'].max())\n",
        "print('Mean value: ', retail_raw['quantity'].mean())\n",
        "print('Mode value: ', retail_raw['quantity'].mode())\n",
        "print('Median value: ', retail_raw['quantity'].median())\n",
        "print('Standard Deviation value: ', retail_raw['quantity'].std())"
      ],
      "execution_count": null,
      "outputs": [
        {
          "output_type": "stream",
          "name": "stdout",
          "text": [
            "Kolom quantity\n",
            "Minimum value:  1.0\n",
            "Maximum value:  720.0\n",
            "Mean value:  11.423987164059366\n",
            "Mode value:  0    1.0\n",
            "dtype: float64\n",
            "Median value:  5.0\n",
            "Standard Deviation value:  29.442025010811317\n"
          ]
        }
      ]
    },
    {
      "cell_type": "code",
      "metadata": {
        "colab": {
          "base_uri": "https://localhost:8080/"
        },
        "id": "fWxTd1YfS4cZ",
        "outputId": "e76c016a-6506-4498-b6f9-d2941091c261"
      },
      "source": [
        "# Deskriptif statistics kolom item_price\n",
        "print('')\n",
        "print('Kolom item_price')\n",
        "print('Minimum value: ', retail_raw['item_price'].min())\n",
        "print('Maximum value: ', retail_raw['item_price'].max())\n",
        "print('Mean value: ', retail_raw['item_price'].mean())\n",
        "print('Median value: ', retail_raw['item_price'].median())\n",
        "print('Standard Deviation value: ', retail_raw['item_price'].std())"
      ],
      "execution_count": null,
      "outputs": [
        {
          "output_type": "stream",
          "name": "stdout",
          "text": [
            "\n",
            "Kolom item_price\n",
            "Minimum value:  26000.0\n",
            "Maximum value:  29762000.0\n",
            "Mean value:  933742.7311008623\n",
            "Median value:  604000.0\n",
            "Standard Deviation value:  1030829.8104242863\n"
          ]
        }
      ]
    },
    {
      "cell_type": "markdown",
      "metadata": {
        "id": "j_5UiFJ7UFA6"
      },
      "source": [
        "Descriptive Statistics - Part 5"
      ]
    },
    {
      "cell_type": "markdown",
      "metadata": {
        "id": "uYgV_GG-UFgs"
      },
      "source": [
        "Quantile Statistics\n",
        "\n",
        "Quantiles adalah titik potong yang membagi distribusi dalam ukuran yang sama. Jika akan membagi distribusi menjadi empat grup yang sama, kuantil yang dibuat dinamai quartile. Jika dibagi kedalam 10 sepuluh grup yang sama dinamakan percentile. Dalam kasus di bawah ini, ingin membagi distribusi menjadi empat grup atau quartile."
      ]
    },
    {
      "cell_type": "code",
      "metadata": {
        "id": "Dv_-CuuqUIbP",
        "colab": {
          "base_uri": "https://localhost:8080/"
        },
        "outputId": "3b5c4f13-7a6c-4dc3-a8be-140e36478a1c"
      },
      "source": [
        "# Quantile statistics kolom quantity\n",
        "print('Kolom quantity:')\n",
        "print(retail_raw['quantity'].quantile([0.25, 0.5, 0.75]))"
      ],
      "execution_count": null,
      "outputs": [
        {
          "output_type": "stream",
          "name": "stdout",
          "text": [
            "Kolom quantity:\n",
            "0.25     2.0\n",
            "0.50     5.0\n",
            "0.75    12.0\n",
            "Name: quantity, dtype: float64\n"
          ]
        }
      ]
    },
    {
      "cell_type": "code",
      "metadata": {
        "colab": {
          "base_uri": "https://localhost:8080/"
        },
        "id": "jZrQ7Q-iU30K",
        "outputId": "3957052d-a936-4ab5-fd65-ebca80e41580"
      },
      "source": [
        "# Quantile statistics kolom item_price\n",
        "print('Kolom item_price:')\n",
        "print(retail_raw['item_price'].quantile([0.25, 0.5, 0.75]))"
      ],
      "execution_count": null,
      "outputs": [
        {
          "output_type": "stream",
          "name": "stdout",
          "text": [
            "Kolom item_price:\n",
            "0.25     450000.0\n",
            "0.50     604000.0\n",
            "0.75    1045000.0\n",
            "Name: item_price, dtype: float64\n"
          ]
        }
      ]
    },
    {
      "cell_type": "markdown",
      "metadata": {
        "id": "iEDoGR_cVvj9"
      },
      "source": [
        "Descriptive Statistics - Part 6"
      ]
    },
    {
      "cell_type": "markdown",
      "metadata": {
        "id": "PQ5RHnkLVxfR"
      },
      "source": [
        "Correlation\n",
        "\n",
        "Korelasi adalah cara yang tepat untuk menemukan hubungan antara variabel numerik. Koefisien korelasi berkisar antara -1 hingga 1. Korelasi 1 adalah korelasi positif total, korelasi -1 adalah korelasi negatif total dan korelasi 0 adalah korelasi non-linear."
      ]
    },
    {
      "cell_type": "code",
      "metadata": {
        "colab": {
          "base_uri": "https://localhost:8080/"
        },
        "id": "qBD5-CZOVyBE",
        "outputId": "79284d20-3677-4597-d34d-885ccbcf6a36"
      },
      "source": [
        "print('Korelasi quantity dengan item_price')\n",
        "print(retail_raw[['quantity', 'item_price']].corr())"
      ],
      "execution_count": null,
      "outputs": [
        {
          "output_type": "stream",
          "name": "stdout",
          "text": [
            "Korelasi quantity dengan item_price\n",
            "            quantity  item_price\n",
            "quantity    1.000000   -0.133936\n",
            "item_price -0.133936    1.000000\n"
          ]
        }
      ]
    },
    {
      "cell_type": "markdown",
      "metadata": {
        "id": "12oEub22Wxt1"
      },
      "source": [
        "Penggunaan Library Profiling"
      ]
    },
    {
      "cell_type": "code",
      "metadata": {
        "id": "1bUrb36WXLjJ"
      },
      "source": [
        "#pandas_profiling.ProfileReport(retail_raw)"
      ],
      "execution_count": null,
      "outputs": []
    },
    {
      "cell_type": "markdown",
      "metadata": {
        "id": "Z3svgUa6XMAw"
      },
      "source": [
        "Data Cleansing"
      ]
    },
    {
      "cell_type": "markdown",
      "metadata": {
        "id": "Gbntb7dgXmHp"
      },
      "source": [
        "Data Cleansing berarti proses mengidentifikasi bagian data yang salah, tidak lengkap, tidak akurat, tidak relevan atau hilang dan kemudian memodifikasi, mengganti atau menghapusnya sesuai dengan kebutuhan."
      ]
    },
    {
      "cell_type": "code",
      "metadata": {
        "colab": {
          "base_uri": "https://localhost:8080/"
        },
        "id": "eWpFFnqlXpXB",
        "outputId": "0da4e088-bc6b-4280-ef60-5834834e18ed"
      },
      "source": [
        "# Check kolom yang memiliki missing data\n",
        "print('Check kolom yang memiliki missing data:')\n",
        "print(retail_raw.isnull().any())"
      ],
      "execution_count": null,
      "outputs": [
        {
          "output_type": "stream",
          "name": "stdout",
          "text": [
            "Check kolom yang memiliki missing data:\n",
            "order_id       False\n",
            "order_date     False\n",
            "customer_id    False\n",
            "city            True\n",
            "province        True\n",
            "product_id      True\n",
            "brand          False\n",
            "quantity        True\n",
            "item_price      True\n",
            "dtype: bool\n"
          ]
        }
      ]
    },
    {
      "cell_type": "markdown",
      "metadata": {
        "id": "G_K3C3NMX_Ik"
      },
      "source": [
        "Imputasi merupakan suatu metode treatment terhadap missing value dengan mengisinya menggunakan teknik tertentu. Bisa menggunakan mean, modus ataupun menggunakan predictive modelling."
      ]
    },
    {
      "cell_type": "code",
      "metadata": {
        "colab": {
          "base_uri": "https://localhost:8080/"
        },
        "id": "m7Xug4-4X_9b",
        "outputId": "a60e0de4-609f-41be-9f87-f6d54abd8db3"
      },
      "source": [
        "# Filling the missing value (imputasi)\n",
        "print('\\nFilling the missing value (imputasi):')\n",
        "retail_raw['quantity'].fillna(retail_raw.quantity.mean())"
      ],
      "execution_count": null,
      "outputs": [
        {
          "output_type": "stream",
          "name": "stdout",
          "text": [
            "\n",
            "Filling the missing value (imputasi):\n"
          ]
        },
        {
          "output_type": "execute_result",
          "data": {
            "text/plain": [
              "0       10.0\n",
              "1        2.0\n",
              "2        8.0\n",
              "3        4.0\n",
              "4        2.0\n",
              "        ... \n",
              "4995     2.0\n",
              "4996     3.0\n",
              "4997     4.0\n",
              "4998     8.0\n",
              "4999     1.0\n",
              "Name: quantity, Length: 5000, dtype: float64"
            ]
          },
          "metadata": {},
          "execution_count": 50
        }
      ]
    },
    {
      "cell_type": "code",
      "metadata": {
        "colab": {
          "base_uri": "https://localhost:8080/"
        },
        "id": "KBX_L_fAZh0A",
        "outputId": "f4eebef9-9104-4a9d-cfeb-38f11a0eef08"
      },
      "source": [
        "retail_raw['item_price'].fillna(retail_raw['item_price'].mean())"
      ],
      "execution_count": null,
      "outputs": [
        {
          "output_type": "execute_result",
          "data": {
            "text/plain": [
              "0       7.400000e+05\n",
              "1       6.040000e+05\n",
              "2       1.045000e+06\n",
              "3       2.050000e+05\n",
              "4       9.337427e+05\n",
              "            ...     \n",
              "4995    4.500000e+05\n",
              "4996    1.465000e+06\n",
              "4997    7.470000e+05\n",
              "4998    6.950000e+05\n",
              "4999    1.045000e+06\n",
              "Name: item_price, Length: 5000, dtype: float64"
            ]
          },
          "metadata": {},
          "execution_count": 51
        }
      ]
    },
    {
      "cell_type": "markdown",
      "metadata": {
        "id": "5YKdgYLnZu5I"
      },
      "source": [
        "Outliers"
      ]
    },
    {
      "cell_type": "markdown",
      "metadata": {
        "id": "Mfsswt5ZZvYo"
      },
      "source": [
        "Outliers merupakan data observasi yang muncul dengan nilai-nilai ekstrim. Yang dimaksud dengan nilai-nilai ekstrim dalam observasi adalah nilai yang jauh atau beda sama sekali dengan sebagian besar nilai lain dalam kelompoknya."
      ]
    },
    {
      "cell_type": "markdown",
      "metadata": {
        "id": "y43XrPVLa-Db"
      },
      "source": [
        "Kolom quantity"
      ]
    },
    {
      "cell_type": "code",
      "metadata": {
        "id": "X--_8y1pZx-7"
      },
      "source": [
        "# Q1, Q3, dan IQR\n",
        "Q1 = retail_raw['quantity'].quantile(0.25)\n",
        "Q3 = retail_raw['quantity'].quantile(0.75)\n",
        "IQR = Q3 - Q1"
      ],
      "execution_count": null,
      "outputs": []
    },
    {
      "cell_type": "code",
      "metadata": {
        "colab": {
          "base_uri": "https://localhost:8080/"
        },
        "id": "tA6fthUIaK2V",
        "outputId": "c138e818-bb06-4b90-ab62-f01ab89019a5"
      },
      "source": [
        "# Check ukuran (baris dan kolom) sebelum data yang outliers dibuang\n",
        "print('Shape awal: ', retail_raw.shape)"
      ],
      "execution_count": null,
      "outputs": [
        {
          "output_type": "stream",
          "name": "stdout",
          "text": [
            "Shape awal:  (5000, 9)\n"
          ]
        }
      ]
    },
    {
      "cell_type": "code",
      "metadata": {
        "id": "Yb4HBRRYaimP"
      },
      "source": [
        "# Removing outliers\n",
        "retail_raw = retail_raw[~((retail_raw['quantity'] < (Q1-1.5*IQR)) | (retail_raw['quantity'] > (Q3+1.5*IQR)))]"
      ],
      "execution_count": null,
      "outputs": []
    },
    {
      "cell_type": "code",
      "metadata": {
        "colab": {
          "base_uri": "https://localhost:8080/"
        },
        "id": "7lomsPb3apUx",
        "outputId": "524f1485-43cb-41c1-e2e3-c60e09601e5d"
      },
      "source": [
        "# Check ukuran (baris dan kolom) setelah data yang outliers dibuang\n",
        "print('Shape akhir: ', retail_raw.shape)"
      ],
      "execution_count": null,
      "outputs": [
        {
          "output_type": "stream",
          "name": "stdout",
          "text": [
            "Shape akhir:  (4699, 9)\n"
          ]
        }
      ]
    },
    {
      "cell_type": "markdown",
      "metadata": {
        "id": "II7iT98abARR"
      },
      "source": [
        "Kolom item_price"
      ]
    },
    {
      "cell_type": "code",
      "metadata": {
        "id": "4eedOyhsbBgw"
      },
      "source": [
        "# Q1, Q3, dan IQR\n",
        "Q1 = retail_raw['item_price'].quantile(0.25)\n",
        "Q3 = retail_raw['item_price'].quantile(0.75)\n",
        "IQR = Q3 - Q1"
      ],
      "execution_count": null,
      "outputs": []
    },
    {
      "cell_type": "code",
      "metadata": {
        "colab": {
          "base_uri": "https://localhost:8080/"
        },
        "id": "gD6aqQoObRIH",
        "outputId": "b1ff9ad5-09fc-4ba3-89f9-9f05ade3ed7e"
      },
      "source": [
        "# Check ukuran (baris dan kolom) sebelum data yang outliers dibuang\n",
        "print('Shape awal: ', retail_raw.shape)"
      ],
      "execution_count": null,
      "outputs": [
        {
          "output_type": "stream",
          "name": "stdout",
          "text": [
            "Shape awal:  (4699, 9)\n"
          ]
        }
      ]
    },
    {
      "cell_type": "code",
      "metadata": {
        "id": "I7Dd47Rvcnhi"
      },
      "source": [
        "# Removing outliers\n",
        "retail_raw = retail_raw[~((retail_raw['item_price'] < (Q1-1.5*IQR)) | (retail_raw['item_price'] > (Q3+1.5*IQR)))]"
      ],
      "execution_count": null,
      "outputs": []
    },
    {
      "cell_type": "code",
      "metadata": {
        "colab": {
          "base_uri": "https://localhost:8080/"
        },
        "id": "d6SXwviEcrgx",
        "outputId": "141ebabc-2b80-472a-c4c3-29e15d77ef79"
      },
      "source": [
        "# Check ukuran (baris dan kolom) setelah data yang outliers dibuang\n",
        "print('Shape akhir: ', retail_raw.shape)"
      ],
      "execution_count": null,
      "outputs": [
        {
          "output_type": "stream",
          "name": "stdout",
          "text": [
            "Shape akhir:  (4379, 9)\n"
          ]
        }
      ]
    },
    {
      "cell_type": "markdown",
      "metadata": {
        "id": "Vqa363t1c32U"
      },
      "source": [
        "Deduplikasi Data"
      ]
    },
    {
      "cell_type": "markdown",
      "metadata": {
        "id": "9clykZ2Vc5R7"
      },
      "source": [
        "Duplikasi data merupakan data dengan kondisi pada row-row tertentu memiliki kesamaan data di seluruh kolomnya. Tentunya ada data yang duplikat dalam dataset yang dimiliki. Kondisi duplikasi harus diatasi dengan jalan mengeliminir baris yang mengalami duplikasi, sehingga proses ini dikenal dengan deduplikasi."
      ]
    },
    {
      "cell_type": "code",
      "metadata": {
        "colab": {
          "base_uri": "https://localhost:8080/"
        },
        "id": "39m7KoqGc5sM",
        "outputId": "3fa79f22-2fb4-4cc0-f999-a43c579619a9"
      },
      "source": [
        "# Check ukuran (baris dan kolom) sebelum data duplikasi dibuang\n",
        "print('Shape awal: ', retail_raw.shape)"
      ],
      "execution_count": null,
      "outputs": [
        {
          "output_type": "stream",
          "name": "stdout",
          "text": [
            "Shape awal:  (4379, 9)\n"
          ]
        }
      ]
    },
    {
      "cell_type": "code",
      "metadata": {
        "id": "ya2Lwy59dQff"
      },
      "source": [
        "# Buang data yang terduplikasi\n",
        "retail_raw.drop_duplicates(inplace=True)"
      ],
      "execution_count": null,
      "outputs": []
    },
    {
      "cell_type": "code",
      "metadata": {
        "colab": {
          "base_uri": "https://localhost:8080/"
        },
        "id": "KODp02-odWMc",
        "outputId": "24fb0148-fa0b-49d7-817f-8c424d3d2c92"
      },
      "source": [
        "# Check ukuran (baris dan kolom) setelah data duplikasi dibuang\n",
        "print('Shape akhir: ', retail_raw.shape)"
      ],
      "execution_count": null,
      "outputs": [
        {
          "output_type": "stream",
          "name": "stdout",
          "text": [
            "Shape akhir:  (4373, 9)\n"
          ]
        }
      ]
    },
    {
      "cell_type": "code",
      "metadata": {
        "colab": {
          "base_uri": "https://localhost:8080/",
          "height": 204
        },
        "id": "-b-iEPjGdZIG",
        "outputId": "131b087f-8d85-41cd-e32b-5267c1108678"
      },
      "source": [
        "retail_raw.head()"
      ],
      "execution_count": null,
      "outputs": [
        {
          "output_type": "execute_result",
          "data": {
            "text/html": [
              "<div>\n",
              "<style scoped>\n",
              "    .dataframe tbody tr th:only-of-type {\n",
              "        vertical-align: middle;\n",
              "    }\n",
              "\n",
              "    .dataframe tbody tr th {\n",
              "        vertical-align: top;\n",
              "    }\n",
              "\n",
              "    .dataframe thead th {\n",
              "        text-align: right;\n",
              "    }\n",
              "</style>\n",
              "<table border=\"1\" class=\"dataframe\">\n",
              "  <thead>\n",
              "    <tr style=\"text-align: right;\">\n",
              "      <th></th>\n",
              "      <th>order_id</th>\n",
              "      <th>order_date</th>\n",
              "      <th>customer_id</th>\n",
              "      <th>city</th>\n",
              "      <th>province</th>\n",
              "      <th>product_id</th>\n",
              "      <th>brand</th>\n",
              "      <th>quantity</th>\n",
              "      <th>item_price</th>\n",
              "    </tr>\n",
              "  </thead>\n",
              "  <tbody>\n",
              "    <tr>\n",
              "      <th>0</th>\n",
              "      <td>1703458</td>\n",
              "      <td>17/10/2019</td>\n",
              "      <td>14004</td>\n",
              "      <td>Jakarta Selatan</td>\n",
              "      <td>DKI Jakarta</td>\n",
              "      <td>P1910</td>\n",
              "      <td>BRAND_J</td>\n",
              "      <td>10.0</td>\n",
              "      <td>740000.0</td>\n",
              "    </tr>\n",
              "    <tr>\n",
              "      <th>1</th>\n",
              "      <td>1706815</td>\n",
              "      <td>24/10/2019</td>\n",
              "      <td>17220</td>\n",
              "      <td>Jakarta Selatan</td>\n",
              "      <td>DKI Jakarta</td>\n",
              "      <td>P2934</td>\n",
              "      <td>BRAND_R</td>\n",
              "      <td>2.0</td>\n",
              "      <td>604000.0</td>\n",
              "    </tr>\n",
              "    <tr>\n",
              "      <th>2</th>\n",
              "      <td>1710718</td>\n",
              "      <td>03/11/2019</td>\n",
              "      <td>16518</td>\n",
              "      <td>Jakarta Utara</td>\n",
              "      <td>DKI Jakarta</td>\n",
              "      <td>P0908</td>\n",
              "      <td>BRAND_C</td>\n",
              "      <td>8.0</td>\n",
              "      <td>1045000.0</td>\n",
              "    </tr>\n",
              "    <tr>\n",
              "      <th>3</th>\n",
              "      <td>1683592</td>\n",
              "      <td>19/08/2019</td>\n",
              "      <td>16364</td>\n",
              "      <td>Jakarta Barat</td>\n",
              "      <td>DKI Jakarta</td>\n",
              "      <td>P0128</td>\n",
              "      <td>BRAND_A</td>\n",
              "      <td>4.0</td>\n",
              "      <td>205000.0</td>\n",
              "    </tr>\n",
              "    <tr>\n",
              "      <th>4</th>\n",
              "      <td>1702573</td>\n",
              "      <td>16/10/2019</td>\n",
              "      <td>15696</td>\n",
              "      <td>Jakarta Timur</td>\n",
              "      <td>DKI Jakarta</td>\n",
              "      <td>P2968</td>\n",
              "      <td>BRAND_R</td>\n",
              "      <td>2.0</td>\n",
              "      <td>NaN</td>\n",
              "    </tr>\n",
              "  </tbody>\n",
              "</table>\n",
              "</div>"
            ],
            "text/plain": [
              "   order_id  order_date  customer_id  ...    brand quantity item_price\n",
              "0   1703458  17/10/2019        14004  ...  BRAND_J     10.0   740000.0\n",
              "1   1706815  24/10/2019        17220  ...  BRAND_R      2.0   604000.0\n",
              "2   1710718  03/11/2019        16518  ...  BRAND_C      8.0  1045000.0\n",
              "3   1683592  19/08/2019        16364  ...  BRAND_A      4.0   205000.0\n",
              "4   1702573  16/10/2019        15696  ...  BRAND_R      2.0        NaN\n",
              "\n",
              "[5 rows x 9 columns]"
            ]
          },
          "metadata": {},
          "execution_count": 63
        }
      ]
    },
    {
      "cell_type": "markdown",
      "metadata": {
        "id": "9tQgfxdedq1q"
      },
      "source": [
        "Case Studi: Data Profiling"
      ]
    },
    {
      "cell_type": "code",
      "metadata": {
        "id": "xfED3Klpdu4R"
      },
      "source": [
        "# Baca dataset uncleaned_raw.csv\n",
        "uncleaned_raw = pd.read_csv('https://storage.googleapis.com/dqlab-dataset/uncleaned_raw.csv')"
      ],
      "execution_count": null,
      "outputs": []
    },
    {
      "cell_type": "code",
      "metadata": {
        "colab": {
          "base_uri": "https://localhost:8080/"
        },
        "id": "v20W5zsBd5BY",
        "outputId": "5fd4203b-edf5-4bd3-c77c-3dd2c31d0f91"
      },
      "source": [
        "#Check kolom yang mengandung missing value\n",
        "print('Kolom dengan missing value:') \n",
        "print(uncleaned_raw.isnull().any())"
      ],
      "execution_count": null,
      "outputs": [
        {
          "output_type": "stream",
          "name": "stdout",
          "text": [
            "Kolom dengan missing value:\n",
            "InvoiceNo      False\n",
            "Description    False\n",
            "Quantity        True\n",
            "InvoiceDate    False\n",
            "UnitPrice      False\n",
            "CustomerID     False\n",
            "City           False\n",
            "dtype: bool\n"
          ]
        }
      ]
    },
    {
      "cell_type": "code",
      "metadata": {
        "id": "RE4YvjSAeOca"
      },
      "source": [
        "#Persentase missing value\n",
        "length_qty = len(uncleaned_raw['Quantity'])\n",
        "count_qty = uncleaned_raw['Quantity'].count()"
      ],
      "execution_count": null,
      "outputs": []
    },
    {
      "cell_type": "code",
      "metadata": {
        "id": "79FKuzCLebDZ"
      },
      "source": [
        "#mengurangi length dengan count\n",
        "number_of_missing_values_qty = length_qty - count_qty"
      ],
      "execution_count": null,
      "outputs": []
    },
    {
      "cell_type": "code",
      "metadata": {
        "colab": {
          "base_uri": "https://localhost:8080/"
        },
        "id": "E3Wy8mRueqjj",
        "outputId": "c033a164-0ce3-4700-a4e1-5e197011e372"
      },
      "source": [
        "#mengubah ke bentuk float\n",
        "float_of_missing_values_qty = float(number_of_missing_values_qty / length_qty) \n",
        "\n",
        "#mengubah ke dalam bentuk persen\n",
        "pct_of_missing_values_qty = '{0:.1f}%'.format(float_of_missing_values_qty*100) \n",
        "\n",
        "#print hasil percent dari missing value\n",
        "print('Persentase missing value kolom Quantity:', pct_of_missing_values_qty)"
      ],
      "execution_count": null,
      "outputs": [
        {
          "output_type": "stream",
          "name": "stdout",
          "text": [
            "Persentase missing value kolom Quantity: 4.0%\n"
          ]
        }
      ]
    },
    {
      "cell_type": "code",
      "metadata": {
        "id": "G8UIan1_e181"
      },
      "source": [
        "#Mengisi missing value tersebut dengan mean dari kolom tersebut\n",
        "uncleaned_raw['Quantity'] = uncleaned_raw['Quantity'].fillna(uncleaned_raw['Quantity'].mean())"
      ],
      "execution_count": null,
      "outputs": []
    },
    {
      "cell_type": "code",
      "metadata": {
        "colab": {
          "base_uri": "https://localhost:8080/"
        },
        "id": "mtcCq940e9LP",
        "outputId": "08b678e6-a02b-4f14-a81b-4f2ff1251dc0"
      },
      "source": [
        "uncleaned_raw.isnull().any()"
      ],
      "execution_count": null,
      "outputs": [
        {
          "output_type": "execute_result",
          "data": {
            "text/plain": [
              "InvoiceNo      False\n",
              "Description    False\n",
              "Quantity       False\n",
              "InvoiceDate    False\n",
              "UnitPrice      False\n",
              "CustomerID     False\n",
              "City           False\n",
              "dtype: bool"
            ]
          },
          "metadata": {},
          "execution_count": 72
        }
      ]
    },
    {
      "cell_type": "markdown",
      "metadata": {
        "id": "9HlFSE0zfCWJ"
      },
      "source": [
        "Case Study: Data Cleansing"
      ]
    },
    {
      "cell_type": "code",
      "metadata": {
        "id": "XJxDx5GifCwV"
      },
      "source": [
        "import matplotlib.pyplot as plt"
      ],
      "execution_count": null,
      "outputs": []
    },
    {
      "cell_type": "code",
      "metadata": {
        "colab": {
          "base_uri": "https://localhost:8080/",
          "height": 504
        },
        "id": "RFu1LyYsfQuE",
        "outputId": "9cd36850-6354-4d24-8ab9-f629556c606e"
      },
      "source": [
        "#Mengetahui kolom yang memiliki outliers!\n",
        "uncleaned_raw.boxplot()\n",
        "plt.show()"
      ],
      "execution_count": null,
      "outputs": [
        {
          "output_type": "display_data",
          "data": {
            "image/png": "[encoded data removed]",
            "text/plain": [
              "<Figure size 800x550 with 1 Axes>"
            ]
          },
          "metadata": {}
        }
      ]
    },
    {
      "cell_type": "code",
      "metadata": {
        "id": "hEKImzb9flQ0"
      },
      "source": [
        "#Check IQR\n",
        "Q1 = uncleaned_raw['UnitPrice'].quantile(0.25)\n",
        "Q3 = uncleaned_raw['UnitPrice'].quantile(0.75)\n",
        "IQR = Q3 - Q1"
      ],
      "execution_count": null,
      "outputs": []
    },
    {
      "cell_type": "code",
      "metadata": {
        "id": "M5N8YU-Of5Sd"
      },
      "source": [
        "#removing outliers\n",
        "uncleaned_raw = uncleaned_raw[~((uncleaned_raw[['UnitPrice']] < (Q1-1.5*IQR)) | (uncleaned_raw[['UnitPrice']] > (Q3+1.5*IQR)))]"
      ],
      "execution_count": null,
      "outputs": []
    }
  ]
}