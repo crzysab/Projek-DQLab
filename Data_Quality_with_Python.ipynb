{
  "nbformat": 4,
  "nbformat_minor": 0,
  "metadata": {
    "colab": {
      "name": "Data Quality with Python.ipynb",
      "provenance": [],
      "authorship_tag": "ABX9TyMkbxKhJHABWUCJ6Y2ql4mG",
      "include_colab_link": true
    },
    "kernelspec": {
      "name": "python3",
      "display_name": "Python 3"
    },
    "language_info": {
      "name": "python"
    }
  },
  "cells": [
    {
      "cell_type": "markdown",
      "metadata": {
        "id": "view-in-github",
        "colab_type": "text"
      },
      "source": [
        "<a href=\"https://colab.research.google.com/github/crzysab/Projek-DQLab/blob/main/Data_Quality_with_Python.ipynb\" target=\"_parent\"><img src=\"https://colab.research.google.com/assets/colab-badge.svg\" alt=\"Open In Colab\"/></a>"
      ]
    },
    {
      "cell_type": "markdown",
      "metadata": {
        "id": "1Q8tciL8OmmG"
      },
      "source": [
        "Import Modules"
      ]
    },
    {
      "cell_type": "code",
      "metadata": {
        "id": "Ldx_xgHrOizY"
      },
      "source": [
        "import pandas as pd\n",
        "import numpy as np\n",
        "import io\n",
        "import pandas_profiling"
      ],
      "execution_count": 1,
      "outputs": []
    },
    {
      "cell_type": "markdown",
      "metadata": {
        "id": "rXIYDeixOpmJ"
      },
      "source": [
        "Membaca Data"
      ]
    },
    {
      "cell_type": "code",
      "metadata": {
        "id": "lo7ki-45Ostx"
      },
      "source": [
        "retail_raw = pd.read_csv('https://storage.googleapis.com/dqlab-dataset/retail_raw_reduced_data_quality.csv')"
      ],
      "execution_count": 2,
      "outputs": []
    },
    {
      "cell_type": "code",
      "metadata": {
        "colab": {
          "base_uri": "https://localhost:8080/"
        },
        "id": "eWX3bqHiOwa-",
        "outputId": "954ea153-1b45-4dbe-aed5-ec6c390d8119"
      },
      "source": [
        "# Cetak tipe data di setiap kolom retail_raw\n",
        "retail_raw.dtypes"
      ],
      "execution_count": 3,
      "outputs": [
        {
          "output_type": "execute_result",
          "data": {
            "text/plain": [
              "order_id         int64\n",
              "order_date      object\n",
              "customer_id      int64\n",
              "city            object\n",
              "province        object\n",
              "product_id      object\n",
              "brand           object\n",
              "quantity       float64\n",
              "item_price     float64\n",
              "dtype: object"
            ]
          },
          "metadata": {},
          "execution_count": 3
        }
      ]
    },
    {
      "cell_type": "code",
      "metadata": {
        "colab": {
          "base_uri": "https://localhost:8080/",
          "height": 204
        },
        "id": "rYtLvPb6O42B",
        "outputId": "884b6625-f948-4ddd-96c7-995cb311e80b"
      },
      "source": [
        "retail_raw.head()"
      ],
      "execution_count": 4,
      "outputs": [
        {
          "output_type": "execute_result",
          "data": {
            "text/html": [
              "<div>\n",
              "<style scoped>\n",
              "    .dataframe tbody tr th:only-of-type {\n",
              "        vertical-align: middle;\n",
              "    }\n",
              "\n",
              "    .dataframe tbody tr th {\n",
              "        vertical-align: top;\n",
              "    }\n",
              "\n",
              "    .dataframe thead th {\n",
              "        text-align: right;\n",
              "    }\n",
              "</style>\n",
              "<table border=\"1\" class=\"dataframe\">\n",
              "  <thead>\n",
              "    <tr style=\"text-align: right;\">\n",
              "      <th></th>\n",
              "      <th>order_id</th>\n",
              "      <th>order_date</th>\n",
              "      <th>customer_id</th>\n",
              "      <th>city</th>\n",
              "      <th>province</th>\n",
              "      <th>product_id</th>\n",
              "      <th>brand</th>\n",
              "      <th>quantity</th>\n",
              "      <th>item_price</th>\n",
              "    </tr>\n",
              "  </thead>\n",
              "  <tbody>\n",
              "    <tr>\n",
              "      <th>0</th>\n",
              "      <td>1703458</td>\n",
              "      <td>17/10/2019</td>\n",
              "      <td>14004</td>\n",
              "      <td>Jakarta Selatan</td>\n",
              "      <td>DKI Jakarta</td>\n",
              "      <td>P1910</td>\n",
              "      <td>BRAND_J</td>\n",
              "      <td>10.0</td>\n",
              "      <td>740000.0</td>\n",
              "    </tr>\n",
              "    <tr>\n",
              "      <th>1</th>\n",
              "      <td>1706815</td>\n",
              "      <td>24/10/2019</td>\n",
              "      <td>17220</td>\n",
              "      <td>Jakarta Selatan</td>\n",
              "      <td>DKI Jakarta</td>\n",
              "      <td>P2934</td>\n",
              "      <td>BRAND_R</td>\n",
              "      <td>2.0</td>\n",
              "      <td>604000.0</td>\n",
              "    </tr>\n",
              "    <tr>\n",
              "      <th>2</th>\n",
              "      <td>1710718</td>\n",
              "      <td>03/11/2019</td>\n",
              "      <td>16518</td>\n",
              "      <td>Jakarta Utara</td>\n",
              "      <td>DKI Jakarta</td>\n",
              "      <td>P0908</td>\n",
              "      <td>BRAND_C</td>\n",
              "      <td>8.0</td>\n",
              "      <td>1045000.0</td>\n",
              "    </tr>\n",
              "    <tr>\n",
              "      <th>3</th>\n",
              "      <td>1683592</td>\n",
              "      <td>19/08/2019</td>\n",
              "      <td>16364</td>\n",
              "      <td>Jakarta Barat</td>\n",
              "      <td>DKI Jakarta</td>\n",
              "      <td>P0128</td>\n",
              "      <td>BRAND_A</td>\n",
              "      <td>4.0</td>\n",
              "      <td>205000.0</td>\n",
              "    </tr>\n",
              "    <tr>\n",
              "      <th>4</th>\n",
              "      <td>1702573</td>\n",
              "      <td>16/10/2019</td>\n",
              "      <td>15696</td>\n",
              "      <td>Jakarta Timur</td>\n",
              "      <td>DKI Jakarta</td>\n",
              "      <td>P2968</td>\n",
              "      <td>BRAND_R</td>\n",
              "      <td>2.0</td>\n",
              "      <td>NaN</td>\n",
              "    </tr>\n",
              "  </tbody>\n",
              "</table>\n",
              "</div>"
            ],
            "text/plain": [
              "   order_id  order_date  customer_id  ...    brand quantity item_price\n",
              "0   1703458  17/10/2019        14004  ...  BRAND_J     10.0   740000.0\n",
              "1   1706815  24/10/2019        17220  ...  BRAND_R      2.0   604000.0\n",
              "2   1710718  03/11/2019        16518  ...  BRAND_C      8.0  1045000.0\n",
              "3   1683592  19/08/2019        16364  ...  BRAND_A      4.0   205000.0\n",
              "4   1702573  16/10/2019        15696  ...  BRAND_R      2.0        NaN\n",
              "\n",
              "[5 rows x 9 columns]"
            ]
          },
          "metadata": {},
          "execution_count": 4
        }
      ]
    },
    {
      "cell_type": "markdown",
      "metadata": {
        "id": "_IxGkjkqPCtQ"
      },
      "source": [
        "Descriptive Statistics - Part 1"
      ]
    },
    {
      "cell_type": "code",
      "metadata": {
        "colab": {
          "base_uri": "https://localhost:8080/"
        },
        "id": "uYdSwM95PDKZ",
        "outputId": "82f903e1-f3ca-45d8-f8f4-7ab1490c47cb"
      },
      "source": [
        "# Kolom city\n",
        "length_city = len(retail_raw['city'])\n",
        "print('Length kolom city:', length_city)"
      ],
      "execution_count": 5,
      "outputs": [
        {
          "output_type": "stream",
          "name": "stdout",
          "text": [
            "Length kolom city: 5000\n"
          ]
        }
      ]
    },
    {
      "cell_type": "code",
      "metadata": {
        "colab": {
          "base_uri": "https://localhost:8080/"
        },
        "id": "cHVTaj21PrPX",
        "outputId": "568b942c-a9a7-4434-ae1c-dc642a47f69d"
      },
      "source": [
        "# Kolom product_id\n",
        "length_product_id = len(retail_raw['product_id'])\n",
        "print('Length kolom product_id:', length_product_id)"
      ],
      "execution_count": 6,
      "outputs": [
        {
          "output_type": "stream",
          "name": "stdout",
          "text": [
            "Length kolom product_id: 5000\n"
          ]
        }
      ]
    }
  ]
}