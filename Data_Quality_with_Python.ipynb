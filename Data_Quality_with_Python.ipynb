{
  "nbformat": 4,
  "nbformat_minor": 0,
  "metadata": {
    "colab": {
      "name": "Data Quality with Python.ipynb",
      "provenance": [],
      "collapsed_sections": [],
      "authorship_tag": "ABX9TyPyXOCHqNZGtnwXF3zChzvq",
      "include_colab_link": true
    },
    "kernelspec": {
      "name": "python3",
      "display_name": "Python 3"
    },
    "language_info": {
      "name": "python"
    }
  },
  "cells": [
    {
      "cell_type": "markdown",
      "metadata": {
        "id": "view-in-github",
        "colab_type": "text"
      },
      "source": [
        "<a href=\"https://colab.research.google.com/github/crzysab/Projek-DQLab/blob/main/Data_Quality_with_Python.ipynb\" target=\"_parent\"><img src=\"https://colab.research.google.com/assets/colab-badge.svg\" alt=\"Open In Colab\"/></a>"
      ]
    },
    {
      "cell_type": "markdown",
      "metadata": {
        "id": "1Q8tciL8OmmG"
      },
      "source": [
        "Import Modules"
      ]
    },
    {
      "cell_type": "code",
      "metadata": {
        "id": "Ldx_xgHrOizY"
      },
      "source": [
        "import pandas as pd\n",
        "import numpy as np\n",
        "import io\n",
        "import pandas_profiling"
      ],
      "execution_count": null,
      "outputs": []
    },
    {
      "cell_type": "markdown",
      "metadata": {
        "id": "rXIYDeixOpmJ"
      },
      "source": [
        "Membaca Data"
      ]
    },
    {
      "cell_type": "code",
      "metadata": {
        "id": "lo7ki-45Ostx"
      },
      "source": [
        "retail_raw = pd.read_csv('https://storage.googleapis.com/dqlab-dataset/retail_raw_reduced_data_quality.csv')"
      ],
      "execution_count": null,
      "outputs": []
    },
    {
      "cell_type": "code",
      "metadata": {
        "colab": {
          "base_uri": "https://localhost:8080/"
        },
        "id": "eWX3bqHiOwa-",
        "outputId": "954ea153-1b45-4dbe-aed5-ec6c390d8119"
      },
      "source": [
        "# Cetak tipe data di setiap kolom retail_raw\n",
        "retail_raw.dtypes"
      ],
      "execution_count": null,
      "outputs": [
        {
          "output_type": "execute_result",
          "data": {
            "text/plain": [
              "order_id         int64\n",
              "order_date      object\n",
              "customer_id      int64\n",
              "city            object\n",
              "province        object\n",
              "product_id      object\n",
              "brand           object\n",
              "quantity       float64\n",
              "item_price     float64\n",
              "dtype: object"
            ]
          },
          "metadata": {},
          "execution_count": 3
        }
      ]
    },
    {
      "cell_type": "code",
      "metadata": {
        "colab": {
          "base_uri": "https://localhost:8080/",
          "height": 204
        },
        "id": "rYtLvPb6O42B",
        "outputId": "884b6625-f948-4ddd-96c7-995cb311e80b"
      },
      "source": [
        "retail_raw.head()"
      ],
      "execution_count": null,
      "outputs": [
        {
          "output_type": "execute_result",
          "data": {
            "text/html": [
              "<div>\n",
              "<style scoped>\n",
              "    .dataframe tbody tr th:only-of-type {\n",
              "        vertical-align: middle;\n",
              "    }\n",
              "\n",
              "    .dataframe tbody tr th {\n",
              "        vertical-align: top;\n",
              "    }\n",
              "\n",
              "    .dataframe thead th {\n",
              "        text-align: right;\n",
              "    }\n",
              "</style>\n",
              "<table border=\"1\" class=\"dataframe\">\n",
              "  <thead>\n",
              "    <tr style=\"text-align: right;\">\n",
              "      <th></th>\n",
              "      <th>order_id</th>\n",
              "      <th>order_date</th>\n",
              "      <th>customer_id</th>\n",
              "      <th>city</th>\n",
              "      <th>province</th>\n",
              "      <th>product_id</th>\n",
              "      <th>brand</th>\n",
              "      <th>quantity</th>\n",
              "      <th>item_price</th>\n",
              "    </tr>\n",
              "  </thead>\n",
              "  <tbody>\n",
              "    <tr>\n",
              "      <th>0</th>\n",
              "      <td>1703458</td>\n",
              "      <td>17/10/2019</td>\n",
              "      <td>14004</td>\n",
              "      <td>Jakarta Selatan</td>\n",
              "      <td>DKI Jakarta</td>\n",
              "      <td>P1910</td>\n",
              "      <td>BRAND_J</td>\n",
              "      <td>10.0</td>\n",
              "      <td>740000.0</td>\n",
              "    </tr>\n",
              "    <tr>\n",
              "      <th>1</th>\n",
              "      <td>1706815</td>\n",
              "      <td>24/10/2019</td>\n",
              "      <td>17220</td>\n",
              "      <td>Jakarta Selatan</td>\n",
              "      <td>DKI Jakarta</td>\n",
              "      <td>P2934</td>\n",
              "      <td>BRAND_R</td>\n",
              "      <td>2.0</td>\n",
              "      <td>604000.0</td>\n",
              "    </tr>\n",
              "    <tr>\n",
              "      <th>2</th>\n",
              "      <td>1710718</td>\n",
              "      <td>03/11/2019</td>\n",
              "      <td>16518</td>\n",
              "      <td>Jakarta Utara</td>\n",
              "      <td>DKI Jakarta</td>\n",
              "      <td>P0908</td>\n",
              "      <td>BRAND_C</td>\n",
              "      <td>8.0</td>\n",
              "      <td>1045000.0</td>\n",
              "    </tr>\n",
              "    <tr>\n",
              "      <th>3</th>\n",
              "      <td>1683592</td>\n",
              "      <td>19/08/2019</td>\n",
              "      <td>16364</td>\n",
              "      <td>Jakarta Barat</td>\n",
              "      <td>DKI Jakarta</td>\n",
              "      <td>P0128</td>\n",
              "      <td>BRAND_A</td>\n",
              "      <td>4.0</td>\n",
              "      <td>205000.0</td>\n",
              "    </tr>\n",
              "    <tr>\n",
              "      <th>4</th>\n",
              "      <td>1702573</td>\n",
              "      <td>16/10/2019</td>\n",
              "      <td>15696</td>\n",
              "      <td>Jakarta Timur</td>\n",
              "      <td>DKI Jakarta</td>\n",
              "      <td>P2968</td>\n",
              "      <td>BRAND_R</td>\n",
              "      <td>2.0</td>\n",
              "      <td>NaN</td>\n",
              "    </tr>\n",
              "  </tbody>\n",
              "</table>\n",
              "</div>"
            ],
            "text/plain": [
              "   order_id  order_date  customer_id  ...    brand quantity item_price\n",
              "0   1703458  17/10/2019        14004  ...  BRAND_J     10.0   740000.0\n",
              "1   1706815  24/10/2019        17220  ...  BRAND_R      2.0   604000.0\n",
              "2   1710718  03/11/2019        16518  ...  BRAND_C      8.0  1045000.0\n",
              "3   1683592  19/08/2019        16364  ...  BRAND_A      4.0   205000.0\n",
              "4   1702573  16/10/2019        15696  ...  BRAND_R      2.0        NaN\n",
              "\n",
              "[5 rows x 9 columns]"
            ]
          },
          "metadata": {},
          "execution_count": 4
        }
      ]
    },
    {
      "cell_type": "markdown",
      "metadata": {
        "id": "_IxGkjkqPCtQ"
      },
      "source": [
        "Descriptive Statistics - Part 1"
      ]
    },
    {
      "cell_type": "markdown",
      "metadata": {
        "id": "gmDXb9GZQHCp"
      },
      "source": [
        "Length\n",
        "\n",
        "Fungsi len menghitung jumlah pengamatan dalam suatu series/column. \n",
        "Fungsi len akan menghitung semua pengamatan, terlepas dari apakah ada null-value atau tidak (include missing value)."
      ]
    },
    {
      "cell_type": "code",
      "metadata": {
        "colab": {
          "base_uri": "https://localhost:8080/"
        },
        "id": "uYdSwM95PDKZ",
        "outputId": "82f903e1-f3ca-45d8-f8f4-7ab1490c47cb"
      },
      "source": [
        "# Kolom city\n",
        "length_city = len(retail_raw['city'])\n",
        "print('Length kolom city:', length_city)"
      ],
      "execution_count": null,
      "outputs": [
        {
          "output_type": "stream",
          "name": "stdout",
          "text": [
            "Length kolom city: 5000\n"
          ]
        }
      ]
    },
    {
      "cell_type": "code",
      "metadata": {
        "colab": {
          "base_uri": "https://localhost:8080/"
        },
        "id": "cHVTaj21PrPX",
        "outputId": "568b942c-a9a7-4434-ae1c-dc642a47f69d"
      },
      "source": [
        "# Kolom product_id\n",
        "length_product_id = len(retail_raw['product_id'])\n",
        "print('Length kolom product_id:', length_product_id)"
      ],
      "execution_count": null,
      "outputs": [
        {
          "output_type": "stream",
          "name": "stdout",
          "text": [
            "Length kolom product_id: 5000\n"
          ]
        }
      ]
    },
    {
      "cell_type": "markdown",
      "metadata": {
        "id": "EH0abp91QKBt"
      },
      "source": [
        "Descriptive Statistics - Part 2"
      ]
    },
    {
      "cell_type": "markdown",
      "metadata": {
        "id": "B1rTZYusQNhS"
      },
      "source": [
        "Count\n",
        "\n",
        "Fungsi count menghitung jumlah pengamatan non-NA/non-null dalam suatu series/column. Di lain pihak, fungsi len akan hanya menghitung jumlah elemen dari kolom baik kolom bersangkutan memiliki atau tidak memiliki missing value (include missing value)."
      ]
    },
    {
      "cell_type": "code",
      "metadata": {
        "colab": {
          "base_uri": "https://localhost:8080/"
        },
        "id": "ESYhpxbeQSxQ",
        "outputId": "12be9c41-f591-4a9d-f858-5a34b91512e0"
      },
      "source": [
        "# Count kolom city\n",
        "count_city = retail_raw['city'].count()\n",
        "print('Count kolom count_city:', count_city)"
      ],
      "execution_count": null,
      "outputs": [
        {
          "output_type": "stream",
          "name": "stdout",
          "text": [
            "Count kolom count_city: 4984\n"
          ]
        }
      ]
    },
    {
      "cell_type": "code",
      "metadata": {
        "colab": {
          "base_uri": "https://localhost:8080/"
        },
        "id": "i31U_l0yQvyQ",
        "outputId": "0e14e7e0-bd44-4427-9532-27e94e326a57"
      },
      "source": [
        "# Count kolom product_id\n",
        "count_product_id = retail_raw['product_id'].count()\n",
        "print('Count kolom product_id:', count_product_id)"
      ],
      "execution_count": null,
      "outputs": [
        {
          "output_type": "stream",
          "name": "stdout",
          "text": [
            "Count kolom product_id: 4989\n"
          ]
        }
      ]
    },
    {
      "cell_type": "markdown",
      "metadata": {
        "id": "TwrCNpVDQ64F"
      },
      "source": [
        "Descriptive Statistics - Part 3"
      ]
    },
    {
      "cell_type": "markdown",
      "metadata": {
        "id": "yz127ZaCQ7WM"
      },
      "source": [
        "Missing Value"
      ]
    },
    {
      "cell_type": "code",
      "metadata": {
        "colab": {
          "base_uri": "https://localhost:8080/"
        },
        "id": "vR-nVLQwQ8mY",
        "outputId": "9db2d046-f513-40b0-ebaa-d20192205b7c"
      },
      "source": [
        "# Missing value pada kolom city\n",
        "number_of_missing_values_city = length_city - count_city\n",
        "float_of_missing_values_city = float(number_of_missing_values_city/length_city)\n",
        "pct_of_missing_values_city = '{0:.1f}%'.format(float_of_missing_values_city*100)\n",
        "print('Persentase missing value kolom city:', pct_of_missing_values_city)"
      ],
      "execution_count": null,
      "outputs": [
        {
          "output_type": "stream",
          "name": "stdout",
          "text": [
            "Persentase missing value kolom city: 0.3%\n"
          ]
        }
      ]
    },
    {
      "cell_type": "code",
      "metadata": {
        "colab": {
          "base_uri": "https://localhost:8080/"
        },
        "id": "oQserxG3SPlw",
        "outputId": "b0ffa2b8-2813-47fd-c38d-d5f93978ebe1"
      },
      "source": [
        "# Missing value pada kolom product_id\n",
        "number_of_missing_values_product_id = length_product_id - count_product_id\n",
        "float_of_missing_values_product_id = float(number_of_missing_values_product_id/length_product_id)\n",
        "pct_of_missing_values_product_id = '{0:.1f}%'.format(float_of_missing_values_product_id * 100)\n",
        "print('Persentase missing value kolom product_id:', pct_of_missing_values_product_id)"
      ],
      "execution_count": null,
      "outputs": [
        {
          "output_type": "stream",
          "name": "stdout",
          "text": [
            "Persentase missing value kolom product_id: 0.2%\n"
          ]
        }
      ]
    },
    {
      "cell_type": "markdown",
      "metadata": {
        "id": "Y9gzeOpXShID"
      },
      "source": [
        "Descriptive Statistics - Part 4"
      ]
    },
    {
      "cell_type": "markdown",
      "metadata": {
        "id": "J6FpMdBXSieb"
      },
      "source": [
        "Maximum, Minimum, Mean, Median, Modus dan Standard Deviasi"
      ]
    },
    {
      "cell_type": "code",
      "metadata": {
        "colab": {
          "base_uri": "https://localhost:8080/"
        },
        "id": "fDvZmHIPSktx",
        "outputId": "3d668563-7f9d-4cd5-b728-ae743d560392"
      },
      "source": [
        "# Deskriptif statistics kolom quantity\n",
        "print('Kolom quantity')\n",
        "print('Minimum value: ', retail_raw['quantity'].min())\n",
        "print('Maximum value: ', retail_raw['quantity'].max())\n",
        "print('Mean value: ', retail_raw['quantity'].mean())\n",
        "print('Mode value: ', retail_raw['quantity'].mode())\n",
        "print('Median value: ', retail_raw['quantity'].median())\n",
        "print('Standard Deviation value: ', retail_raw['quantity'].std())"
      ],
      "execution_count": null,
      "outputs": [
        {
          "output_type": "stream",
          "name": "stdout",
          "text": [
            "Kolom quantity\n",
            "Minimum value:  1.0\n",
            "Maximum value:  720.0\n",
            "Mean value:  11.423987164059366\n",
            "Mode value:  0    1.0\n",
            "dtype: float64\n",
            "Median value:  5.0\n",
            "Standard Deviation value:  29.442025010811317\n"
          ]
        }
      ]
    },
    {
      "cell_type": "code",
      "metadata": {
        "colab": {
          "base_uri": "https://localhost:8080/"
        },
        "id": "fWxTd1YfS4cZ",
        "outputId": "1fbca513-12ec-436c-9931-4b83e271bfa1"
      },
      "source": [
        "# Deskriptif statistics kolom item_price\n",
        "print('')\n",
        "print('Kolom item_price')\n",
        "print('Minimum value: ', retail_raw['item_price'].min())\n",
        "print('Maximum value: ', retail_raw['item_price'].max())\n",
        "print('Mean value: ', retail_raw['item_price'].mean())\n",
        "print('Median value: ', retail_raw['item_price'].median())\n",
        "print('Standard Deviation value: ', retail_raw['item_price'].std())"
      ],
      "execution_count": null,
      "outputs": [
        {
          "output_type": "stream",
          "name": "stdout",
          "text": [
            "\n",
            "Kolom item_price\n",
            "Minimum value:  26000.0\n",
            "Maximum value:  29762000.0\n",
            "Mean value:  933742.7311008623\n",
            "Median value:  604000.0\n",
            "Standard Deviation value:  1030829.8104242863\n"
          ]
        }
      ]
    },
    {
      "cell_type": "markdown",
      "metadata": {
        "id": "j_5UiFJ7UFA6"
      },
      "source": [
        "Descriptive Statistics - Part 5"
      ]
    },
    {
      "cell_type": "markdown",
      "metadata": {
        "id": "uYgV_GG-UFgs"
      },
      "source": [
        "Quantile Statistics\n",
        "\n",
        "Quantiles adalah titik potong yang membagi distribusi dalam ukuran yang sama. Jika akan membagi distribusi menjadi empat grup yang sama, kuantil yang dibuat dinamai quartile. Jika dibagi kedalam 10 sepuluh grup yang sama dinamakan percentile. Dalam kasus di bawah ini, ingin membagi distribusi menjadi empat grup atau quartile."
      ]
    },
    {
      "cell_type": "code",
      "metadata": {
        "id": "Dv_-CuuqUIbP",
        "colab": {
          "base_uri": "https://localhost:8080/"
        },
        "outputId": "cd07c09f-977d-4e62-c0ee-eb1fff5af438"
      },
      "source": [
        "# Quantile statistics kolom quantity\n",
        "print('Kolom quantity:')\n",
        "print(retail_raw['quantity'].quantile([0.25, 0.5, 0.75]))"
      ],
      "execution_count": 17,
      "outputs": [
        {
          "output_type": "stream",
          "name": "stdout",
          "text": [
            "Kolom quantity:\n",
            "0.25     2.0\n",
            "0.50     5.0\n",
            "0.75    12.0\n",
            "Name: quantity, dtype: float64\n"
          ]
        }
      ]
    },
    {
      "cell_type": "code",
      "metadata": {
        "colab": {
          "base_uri": "https://localhost:8080/"
        },
        "id": "jZrQ7Q-iU30K",
        "outputId": "ef09f8f7-9793-4c59-c3d1-d0f9b219e677"
      },
      "source": [
        "# Quantile statistics kolom item_price\n",
        "print('Kolom item_price:')\n",
        "print(retail_raw['item_price'].quantile([0.25, 0.5, 0.75]))"
      ],
      "execution_count": 18,
      "outputs": [
        {
          "output_type": "stream",
          "name": "stdout",
          "text": [
            "Kolom item_price:\n",
            "0.25     450000.0\n",
            "0.50     604000.0\n",
            "0.75    1045000.0\n",
            "Name: item_price, dtype: float64\n"
          ]
        }
      ]
    }
  ]
}